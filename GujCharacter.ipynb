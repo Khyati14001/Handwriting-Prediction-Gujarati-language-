{
    "cells": [
        {
            "cell_type": "markdown",
            "source": [
                "Collect Images"
            ],
            "metadata": {}
        },
        {
            "cell_type": "code",
            "execution_count": 15,
            "source": [
                "def screen_capture():\r\n",
                "  import pyscreenshot as ImageGrab\r\n",
                "  import time\r\n",
                "\r\n",
                "  #images_folder = \"captured_image/12/\"\r\n",
                "  images_folder = \"New_images/\"\r\n",
                "  for i in range(2):\r\n",
                "    time.sleep(7)\r\n",
                "    im = ImageGrab.grab(bbox = (60,170,400,550))   # co-ordinates for capturing image\r\n",
                "    print(\"Saved..\",i)\r\n",
                "    im.save(images_folder+str(i)+'.png')\r\n",
                "    print(\"Clear screen and redraw again...\")\r\n",
                "screen_capture()"
            ],
            "outputs": [
                {
                    "output_type": "stream",
                    "name": "stdout",
                    "text": [
                        "Saved.. 0\n",
                        "Clear screen and redraw again...\n",
                        "Saved.. 1\n",
                        "Clear screen and redraw again...\n"
                    ]
                }
            ],
            "metadata": {}
        },
        {
            "cell_type": "markdown",
            "source": [
                "2.Create Data with label"
            ],
            "metadata": {}
        },
        {
            "cell_type": "code",
            "execution_count": 2,
            "source": [
                "import numpy as np\r\n",
                "def create_label(image_name):\r\n",
                "    if image_name == '0':  #image_name = folder name\r\n",
                "        return np.array([1,0,0,0,0,0,0,0,0,0,0,0])\r\n",
                "    elif image_name == '1':\r\n",
                "        return np.array([0,1,0,0,0,0,0,0,0,0,0,0])\r\n",
                "    elif image_name == '2':\r\n",
                "        return np.array([0,0,1,0,0,0,0,0,0,0,0,0])\r\n",
                "    elif image_name == '3':\r\n",
                "        return np.array([0,0,0,1,0,0,0,0,0,0,0,0])\r\n",
                "    elif image_name == '4':\r\n",
                "        return np.array([0,0,0,0,1,0,0,0,0,0,0,0])\r\n",
                "    elif image_name == '5':\r\n",
                "        return np.array([0,0,0,0,0,1,0,0,0,0,0,0])\r\n",
                "    elif image_name == '6':\r\n",
                "        return np.array([0,0,0,0,0,0,1,0,0,0,0,0])\r\n",
                "    elif image_name == '7':\r\n",
                "        return np.array([0,0,0,0,0,0,0,1,0,0,0,0])\r\n",
                "    elif image_name == '8':\r\n",
                "        return np.array([0,0,0,0,0,0,0,0,1,0,0,0])\r\n",
                "    elif image_name == '9':\r\n",
                "        return np.array([0,0,0,0,0,0,0,0,0,1,0,0])\r\n",
                "    elif image_name == '10':\r\n",
                "        return np.array([0,0,0,0,0,0,0,0,0,0,1,0])\r\n",
                "    elif image_name == '11':\r\n",
                "        return np.array([0,0,0,0,0,0,0,0,0,0,0,1])\r\n",
                "    \r\n"
            ],
            "outputs": [],
            "metadata": {}
        },
        {
            "cell_type": "code",
            "execution_count": 3,
            "source": [
                "import os\r\n",
                "import cv2\r\n",
                "from random import shuffle\r\n",
                "from tqdm import tqdm  # displaying progress bar\r\n",
                "\r\n",
                "def create_data():\r\n",
                "    data=[]\r\n",
                "    for folder in tqdm(os.listdir(\"captured_image\")): #list folder\r\n",
                "        for img in os.listdir(\"captured_image/\"+folder): # list images in each folder\r\n",
                "            path = os.path.join(\"captured_image\",folder,img)\r\n",
                "            img_data = cv2.imread(path,cv2.IMREAD_GRAYSCALE)  #for reading image\r\n",
                "            try:\r\n",
                "                img_data = cv2.resize(img_data,(28,28))\r\n",
                "            except cv2.error as e:\r\n",
                "                continue\r\n",
                "            data.append([np.array(img_data),create_label(folder)])\r\n",
                "            \r\n",
                "    shuffle(data)\r\n",
                "    return data\r\n"
            ],
            "outputs": [],
            "metadata": {}
        },
        {
            "cell_type": "code",
            "execution_count": 4,
            "source": [
                "data = create_data()"
            ],
            "outputs": [
                {
                    "output_type": "stream",
                    "name": "stderr",
                    "text": [
                        "100%|██████████| 12/12 [00:02<00:00,  4.41it/s]\n"
                    ]
                }
            ],
            "metadata": {}
        },
        {
            "cell_type": "markdown",
            "source": [
                "3. Divinding data into training and testing part"
            ],
            "metadata": {}
        },
        {
            "cell_type": "code",
            "execution_count": 5,
            "source": [
                "train = data[:90]\r\n",
                "test = data[90:]\r\n",
                "x_train = np.array([i[0] for i in train]).reshape(-1,28,28,1) # data stored , 1 for grayscale image , -1 for auto calculate images=70\r\n",
                "y_train = np.array([i[1] for i in train]).reshape(-1,1) # label stored\r\n",
                "y_train = np.reshape(y_train , (-1,12))\r\n",
                "x_test = np.array([i[0] for i in test]).reshape(-1,28,28,1)    # -1 for images = 30\r\n",
                "y_test = [i[1] for i in test]\r\n"
            ],
            "outputs": [],
            "metadata": {}
        },
        {
            "cell_type": "markdown",
            "source": [
                "4. Building the model"
            ],
            "metadata": {}
        },
        {
            "cell_type": "code",
            "execution_count": 6,
            "source": [
                "import tensorflow as tf\r\n",
                "import tflearn\r\n",
                "from tflearn.layers.conv import conv_2d,max_pool_2d\r\n",
                "from tflearn.layers.core import input_data,dropout,fully_connected\r\n",
                "from tflearn.layers.estimator import regression\r\n",
                "\r\n"
            ],
            "outputs": [
                {
                    "output_type": "stream",
                    "name": "stdout",
                    "text": [
                        "WARNING:tensorflow:From C:\\Users\\Khyati\\Envs\\project\\lib\\site-packages\\tensorflow\\python\\compat\\v2_compat.py:96: disable_resource_variables (from tensorflow.python.ops.variable_scope) is deprecated and will be removed in a future version.\n",
                        "Instructions for updating:\n",
                        "non-resource variables are not supported in the long term\n",
                        "curses is not supported on this machine (please install/reinstall curses for an optimal experience)\n"
                    ]
                }
            ],
            "metadata": {}
        },
        {
            "cell_type": "markdown",
            "source": [
                "Steps for CNN \r\n",
                "1. Convolutional layers\r\n",
                "2. Normalization\r\n",
                "3. Pooling\r\n",
                "4. fully connected"
            ],
            "metadata": {}
        },
        {
            "cell_type": "code",
            "execution_count": 7,
            "source": [
                "from tensorflow.python.framework import ops\r\n",
                "ops.reset_default_graph()\r\n",
                "convnet = input_data(shape=[None,28,28,1],name='input') # type = <class 'tensorflow.python.framework.ops.Tensor'>\r\n",
                "\r\n",
                "convnet = conv_2d(convnet,32,5,activation='relu') # no_filter =32 , filter_size=5\r\n",
                "convnet = max_pool_2d(convnet,5) # kernel_size =5\r\n",
                "convnet = conv_2d(convnet,64,5,activation='relu') \r\n",
                "convnet = max_pool_2d(convnet,3)\r\n",
                "convnet = conv_2d(convnet,128,5,activation='relu') \r\n",
                "convnet = max_pool_2d(convnet,5)\r\n",
                "#convnet = conv_2d(convnet,64,5,activation='relu') \r\n",
                "#convnet = max_pool_2d(convnet,5)\r\n",
                "convnet = conv_2d(convnet,32,5,activation='relu') \r\n",
                "convnet = max_pool_2d(convnet,5)\r\n",
                "\r\n",
                "convnet = fully_connected(convnet,1024,activation='relu')  #1024 = neurons as hidden layer\r\n",
                "#convnet = dropout(convnet,0.3) # dropout for preventing  a model from overfitting\r\n",
                "convnet = fully_connected(convnet,12,activation='softmax')  # 10= nurons as right now here the dataset has 10 digit 0 to 9 \r\n",
                "                                                            # Softmax use for classification problem \r\n",
                "convnet = regression(convnet,optimizer='adam',learning_rate= 0.001,loss='categorical_crossentropy',name='targets')    # adam for optimizing the model\r\n",
                "model = tflearn.DNN(convnet,tensorboard_verbose=1)  #DNN = Deep neural network\r\n",
                "model.fit({'input':x_train},{'targets':y_train},n_epoch=40,validation_set=({'input':x_test},{'targets':y_test}),show_metric=True)\r\n"
            ],
            "outputs": [
                {
                    "output_type": "stream",
                    "name": "stdout",
                    "text": [
                        "Training Step: 79  | total loss: \u001b[1m\u001b[32m1.59835\u001b[0m\u001b[0m | time: 0.143s\n",
                        "| Adam | epoch: 040 | loss: 1.59835 - acc: 0.7976 -- iter: 64/90\n",
                        "Training Step: 80  | total loss: \u001b[1m\u001b[32m1.45236\u001b[0m\u001b[0m | time: 1.282s\n",
                        "| Adam | epoch: 040 | loss: 1.45236 - acc: 0.8183 | val_loss: 1.11757 - val_acc: 0.6667 -- iter: 90/90\n",
                        "--\n"
                    ]
                }
            ],
            "metadata": {}
        },
        {
            "cell_type": "code",
            "execution_count": 8,
            "source": [
                "def create_test_data():\r\n",
                "    data = []\r\n",
                "    for img in tqdm(os.listdir(\"New_images/\")):\r\n",
                "        path = os.path.join(\"New_images\",img)\r\n",
                "        img_num = img.split('.')[0]    #[0] for image name is like 0.png\r\n",
                "        img_data = cv2.imread(path,cv2.IMREAD_GRAYSCALE)\r\n",
                "        try:\r\n",
                "            img_data = cv2.resize(img_data,(28,28))\r\n",
                "        except cv2.error as e:\r\n",
                "            continue\r\n",
                "        data.append([np.array(img_data),img_num])\r\n",
                "        #print(np.array(img_data))\r\n",
                "        #print(img_num)\r\n",
                "    shuffle(data)\r\n",
                "    return data\r\n",
                "    "
            ],
            "outputs": [],
            "metadata": {}
        },
        {
            "cell_type": "code",
            "execution_count": 9,
            "source": [
                "test_data = create_test_data()"
            ],
            "outputs": [
                {
                    "output_type": "stream",
                    "name": "stderr",
                    "text": [
                        "100%|██████████| 12/12 [00:00<00:00, 29.89it/s]\n"
                    ]
                }
            ],
            "metadata": {}
        },
        {
            "cell_type": "code",
            "execution_count": 17,
            "source": [
                "import matplotlib.pyplot as plt\r\n",
                "fig = plt.figure(figsize=(10,10))\r\n",
                "for num, data in enumerate(test_data[4:5]):\r\n",
                "    img_data = data[0]  # 0 index there is image data in 1 index image number\r\n",
                "    y = fig.add_subplot(5,5,num+1)\r\n",
                "    orig = img_data\r\n",
                "    data = img_data.reshape(28,28,1)\r\n",
                "    model_out = model.predict([data])\r\n",
                "    result = np.argmax(model_out)\r\n",
                "    y.imshow(orig, cmap = 'gray')\r\n",
                "    if result == 0:\r\n",
                "        print(\"Prediction: ૦\")\r\n",
                "    if result == 1:\r\n",
                "        result= \"૧\"\r\n",
                "        print(\"Prediction: \"+str(result))\r\n",
                "    if result == 2:\r\n",
                "        result =\"૨\"\r\n",
                "        print(\"Prediction: \"+str(result))\r\n",
                "    if result == 3:\r\n",
                "        result = \"૩\"\r\n",
                "        print(\"Prediction: \"+str(result))\r\n",
                "    if result == 4:\r\n",
                "        result = \"૪\"\r\n",
                "        print(\"Prediction: \"+str(result))\r\n",
                "    if result == 5:\r\n",
                "        result = \"૫\"\r\n",
                "        print(\"Prediction: \"+str(result))\r\n",
                "    if result == 6:\r\n",
                "        result = \"૬\"\r\n",
                "        print(\"Prediction: \"+str(result))\r\n",
                "    if result == 7:\r\n",
                "        result = \"૭\"\r\n",
                "        print(\"Prediction: \"+str(result))\r\n",
                "    if result == 8:\r\n",
                "        result = \"૮\"\r\n",
                "        print(\"Prediction: \"+str(result))\r\n",
                "    if result == 9:\r\n",
                "        result = \"૯\"\r\n",
                "        print(\"Prediction: \"+str(result))\r\n",
                "    str_label = \"Prediction: \"+str(result)\r\n",
                "    #y.imshow(orig, cmap = 'gray')\r\n",
                "    y.axes.get_xaxis().set_visible(False)\r\n",
                "    y.axes.get_yaxis().set_visible(False)\r\n",
                "plt.show()"
            ],
            "outputs": [
                {
                    "output_type": "stream",
                    "name": "stdout",
                    "text": [
                        "Prediction: ૮\n"
                    ]
                },
                {
                    "output_type": "display_data",
                    "data": {
                        "text/plain": [
                            "<Figure size 720x720 with 1 Axes>"
                        ],
                        "image/svg+xml": "<?xml version=\"1.0\" encoding=\"utf-8\" standalone=\"no\"?>\r\n<!DOCTYPE svg PUBLIC \"-//W3C//DTD SVG 1.1//EN\"\r\n  \"http://www.w3.org/Graphics/SVG/1.1/DTD/svg11.dtd\">\r\n<svg height=\"111.624138pt\" version=\"1.1\" viewBox=\"0 0 111.624138 111.624138\" width=\"111.624138pt\" xmlns=\"http://www.w3.org/2000/svg\" xmlns:xlink=\"http://www.w3.org/1999/xlink\">\r\n <metadata>\r\n  <rdf:RDF xmlns:cc=\"http://creativecommons.org/ns#\" xmlns:dc=\"http://purl.org/dc/elements/1.1/\" xmlns:rdf=\"http://www.w3.org/1999/02/22-rdf-syntax-ns#\">\r\n   <cc:Work>\r\n    <dc:type rdf:resource=\"http://purl.org/dc/dcmitype/StillImage\"/>\r\n    <dc:date>2021-08-21T08:45:43.408059</dc:date>\r\n    <dc:format>image/svg+xml</dc:format>\r\n    <dc:creator>\r\n     <cc:Agent>\r\n      <dc:title>Matplotlib v3.4.2, https://matplotlib.org/</dc:title>\r\n     </cc:Agent>\r\n    </dc:creator>\r\n   </cc:Work>\r\n  </rdf:RDF>\r\n </metadata>\r\n <defs>\r\n  <style type=\"text/css\">*{stroke-linecap:butt;stroke-linejoin:round;}</style>\r\n </defs>\r\n <g id=\"figure_1\">\r\n  <g id=\"patch_1\">\r\n   <path d=\"M 0 111.624138 \r\nL 111.624138 111.624138 \r\nL 111.624138 -0 \r\nL 0 -0 \r\nz\r\n\" style=\"fill:none;\"/>\r\n  </g>\r\n  <g id=\"axes_1\">\r\n   <g id=\"patch_2\">\r\n    <path d=\"M 10.7 100.924138 \r\nL 104.424138 100.924138 \r\nL 104.424138 7.2 \r\nL 10.7 7.2 \r\nz\r\n\" style=\"fill:#ffffff;\"/>\r\n   </g>\r\n   <g clip-path=\"url(#p35262cfac2)\">\r\n    <image height=\"94\" id=\"imagefddf08eb93\" transform=\"scale(1 -1)translate(0 -94)\" width=\"94\" x=\"10.7\" xlink:href=\"data:image/png;base64,\r\niVBORw0KGgoAAAANSUhEUgAAAF4AAABeCAYAAACq0qNuAAADAElEQVR4nO3dS2oiURQG4OtbM46gCM4UwYGCW8jIHcR1uBVdgwMHzlyAQ3HsVBRUfKCoJPGZjPrk3qK1u8ktf23/b3TKqlCXn8OhpMqKRyn1qejqvOgFPCoGD8LgQRg8CIMHYfAgDB6EwYMweBAGD8LgQRg8iB+9gD/p9/vGts/nk/rt7U3qdrttHFcqldxd2A+x40EYPAiDB7mZGd/r9aT2er/7YbPZGMftdjup8/m828tyDTsehMGDeNQV77l2Oh2pY7GYse/j40Pq9Xot9cvLi3HcbDZzaXXXxY4HYfAgDB7E1Rk/GAzO7lsul8b28XiU+p4vE/8WOx6EwYNY/+Y6Go2k3u/3xr7FYiF1Lpezfeq7wo4HYfAgVkbNubHhHDWPPl507HgQBg/C4EGszPharSb14XCQWr98JBM7HoTBg1gZNeFw+Leff37yd23nsONBGDyIlVFTqVSkLpfLUjvvq9I3djwIgwdh8CDW77l2u12pg8GgsS8QCEidTCZtnvbusONBGDyI9Xuur6+vUjebTWOf/vhdKBQy9m23W9tLuWnseBAGD+Lqk2TD4dDY1q9q9B8YKGWOoUe4N8uOB2HwIAwe5Kq/CJnP51I7b5LoTw/r+1KplOvrQmDHgzB4kKuOGl29Xje2i8Wi1OPxWGrnZWcmk3F3YVfCjgdh8CCwUeO0Wq2kjkQiUk8mE+O40+kk9fv7u9TpdNrF1dnHjgdh8CAMHuRmZvw5rVbL2M5ms1Lr897vN+/pPD8/S60/wXwr2PEgDB7k5keNU6FQkLrRaEgdjUaN4/TLUH3sPD09ube4f8COB2HwIAwe5O5m/DmXbqx4PB6pnTNe/zvnsz5uYseDMHiQ/2bUXKK/1e8SfdQ4n3S2jR0PwuBBHmLUXOJ8tcsv+o0ZpcwXkiYSiR+flx0PwuBBGDzIzbw/HkV/dFx/6aj+uVJKVatVq+dlx4MweJCHHzU6/V8dxeNxY990OrV6LnY8CIMHefhvrijseBAGD8LgQRg8CIMHYfAgX06YstEhQQW9AAAAAElFTkSuQmCC\" y=\"-6.924138\"/>\r\n   </g>\r\n   <g id=\"patch_3\">\r\n    <path d=\"M 10.7 100.924138 \r\nL 10.7 7.2 \r\n\" style=\"fill:none;stroke:#000000;stroke-linecap:square;stroke-linejoin:miter;stroke-width:0.8;\"/>\r\n   </g>\r\n   <g id=\"patch_4\">\r\n    <path d=\"M 104.424138 100.924138 \r\nL 104.424138 7.2 \r\n\" style=\"fill:none;stroke:#000000;stroke-linecap:square;stroke-linejoin:miter;stroke-width:0.8;\"/>\r\n   </g>\r\n   <g id=\"patch_5\">\r\n    <path d=\"M 10.7 100.924138 \r\nL 104.424138 100.924138 \r\n\" style=\"fill:none;stroke:#000000;stroke-linecap:square;stroke-linejoin:miter;stroke-width:0.8;\"/>\r\n   </g>\r\n   <g id=\"patch_6\">\r\n    <path d=\"M 10.7 7.2 \r\nL 104.424138 7.2 \r\n\" style=\"fill:none;stroke:#000000;stroke-linecap:square;stroke-linejoin:miter;stroke-width:0.8;\"/>\r\n   </g>\r\n  </g>\r\n </g>\r\n <defs>\r\n  <clipPath id=\"p35262cfac2\">\r\n   <rect height=\"93.724138\" width=\"93.724138\" x=\"10.7\" y=\"7.2\"/>\r\n  </clipPath>\r\n </defs>\r\n</svg>\r\n",
                        "image/png": "[encoded data removed]"
                    },
                    "metadata": {
                        "needs_background": "light"
                    }
                }
            ],
            "metadata": {}
        },
        {
            "cell_type": "code",
            "execution_count": 13,
            "source": [
                "import matplotlib.pyplot as plt\r\n",
                "fig = plt.figure(figsize=(10,10))\r\n",
                "for num, data in enumerate(test_data[3:4]):\r\n",
                "    img_data = data[0]  # 0 index there is image data in 1 index image number\r\n",
                "    y = fig.add_subplot(5,5,num+1)\r\n",
                "    orig = img_data\r\n",
                "    data = img_data.reshape(28,28,1)\r\n",
                "    model_out = model.predict([data])\r\n",
                "    result = np.argmax(model_out)\r\n",
                "    y.imshow(orig, cmap = 'gray')\r\n",
                "    if result == 0:\r\n",
                "        print(\"Prediction: ૦\")\r\n",
                "    if result == 1:\r\n",
                "        result= \"૧\"\r\n",
                "        print(\"Prediction: \"+str(result))\r\n",
                "    if result == 2:\r\n",
                "        result =\"૨\"\r\n",
                "        print(\"Prediction: \"+str(result))\r\n",
                "    if result == 3:\r\n",
                "        result = \"૩\"\r\n",
                "        print(\"Prediction: \"+str(result))\r\n",
                "    if result == 4:\r\n",
                "        result = \"૪\"\r\n",
                "        print(\"Prediction: \"+str(result))\r\n",
                "    if result == 5:\r\n",
                "        result = \"૫\"\r\n",
                "        print(\"Prediction: \"+str(result))\r\n",
                "    if result == 6:\r\n",
                "        result = \"૬\"\r\n",
                "        print(\"Prediction: \"+str(result))\r\n",
                "    if result == 7:\r\n",
                "        result = \"૭\"\r\n",
                "        print(\"Prediction: \"+str(result))\r\n",
                "    if result == 8:\r\n",
                "        result = \"૮\"\r\n",
                "        print(\"Prediction: \"+str(result))\r\n",
                "    if result == 9:\r\n",
                "        result = \"૯\"\r\n",
                "        print(\"Prediction: \"+str(result))\r\n",
                "    if result == 10:\r\n",
                "        print(\"Prediction: ક\")\r\n",
                "    if result == 11:\r\n",
                "        print(\"Prediction: ગ\")\r\n",
                "    str_label = \"Prediction: \"+str(result)\r\n",
                "    #y.imshow(orig, cmap = 'gray')\r\n",
                "    y.axes.get_xaxis().set_visible(False)\r\n",
                "    y.axes.get_yaxis().set_visible(False)\r\n",
                "plt.show()"
            ],
            "outputs": [
                {
                    "output_type": "stream",
                    "name": "stdout",
                    "text": [
                        "Prediction: ગ\n"
                    ]
                },
                {
                    "output_type": "display_data",
                    "data": {
                        "text/plain": [
                            "<Figure size 720x720 with 1 Axes>"
                        ],
                        "image/svg+xml": "<?xml version=\"1.0\" encoding=\"utf-8\" standalone=\"no\"?>\r\n<!DOCTYPE svg PUBLIC \"-//W3C//DTD SVG 1.1//EN\"\r\n  \"http://www.w3.org/Graphics/SVG/1.1/DTD/svg11.dtd\">\r\n<svg height=\"111.624138pt\" version=\"1.1\" viewBox=\"0 0 111.624138 111.624138\" width=\"111.624138pt\" xmlns=\"http://www.w3.org/2000/svg\" xmlns:xlink=\"http://www.w3.org/1999/xlink\">\r\n <metadata>\r\n  <rdf:RDF xmlns:cc=\"http://creativecommons.org/ns#\" xmlns:dc=\"http://purl.org/dc/elements/1.1/\" xmlns:rdf=\"http://www.w3.org/1999/02/22-rdf-syntax-ns#\">\r\n   <cc:Work>\r\n    <dc:type rdf:resource=\"http://purl.org/dc/dcmitype/StillImage\"/>\r\n    <dc:date>2021-08-22T22:38:25.292095</dc:date>\r\n    <dc:format>image/svg+xml</dc:format>\r\n    <dc:creator>\r\n     <cc:Agent>\r\n      <dc:title>Matplotlib v3.4.2, https://matplotlib.org/</dc:title>\r\n     </cc:Agent>\r\n    </dc:creator>\r\n   </cc:Work>\r\n  </rdf:RDF>\r\n </metadata>\r\n <defs>\r\n  <style type=\"text/css\">*{stroke-linecap:butt;stroke-linejoin:round;}</style>\r\n </defs>\r\n <g id=\"figure_1\">\r\n  <g id=\"patch_1\">\r\n   <path d=\"M 0 111.624138 \r\nL 111.624138 111.624138 \r\nL 111.624138 -0 \r\nL 0 -0 \r\nz\r\n\" style=\"fill:none;\"/>\r\n  </g>\r\n  <g id=\"axes_1\">\r\n   <g id=\"patch_2\">\r\n    <path d=\"M 10.7 100.924138 \r\nL 104.424138 100.924138 \r\nL 104.424138 7.2 \r\nL 10.7 7.2 \r\nz\r\n\" style=\"fill:#ffffff;\"/>\r\n   </g>\r\n   <g clip-path=\"url(#p53cb04c698)\">\r\n    <image height=\"94\" id=\"image7470dd4b70\" transform=\"scale(1 -1)translate(0 -94)\" width=\"94\" x=\"10.7\" xlink:href=\"data:image/png;base64,\r\niVBORw0KGgoAAAANSUhEUgAAAF4AAABeCAYAAACq0qNuAAAD0ElEQVR4nO2cO0ssQRCFe30/ERGfqKAGKqKZiYGgoYmY+BOUjfwJGvo31EAEAyNDQQVNBBGDXWMFX4i7goL4zGqr+jpzZ9W9x+ucLzq909PdHGqLnunuSTjn3hz55xShBxBXaDwIGg+CxoOg8SBoPAgaD4LGg6DxIGg8CBoPgsaDKEEP4LexubkpemJiIrAeIx4EjQdB40Ewx3+CpaUlUx4eHhZdVJSL5bc3u8aUSCRy9Qo0NvIXaDyIH5NqFhcXRc/OzorWf13nnLu7uxNdUpIbfl1dnalXVVX13UMU+vv7TVn33dbWFnifTj2MeBA0HgSNB/FjcrzOf8XFxaKz2aypp3O3zvH39/em3vn5+Ydt9PX1fXmsZWVlplxeXi56Y2NDdHNzs6k3MjIimhEPgsaDSLhfsoUvlUqZsv6bPz8/i358fDT1Ojo68u7r4ODAlLu7u0Xv7u6KnpycDGyDEQ+CxoP4NakmjNPTU9F6JuScc09PT6I7OzsjteentaamJtENDQ2R2mDEg6DxIGg8iB/z5FpI9JQxnU6bazonb21tiR4fHw9sTy9oOOfcxcVF3mNixIOg8SBiMZ0M4+TkRHRjY6Po6+trU6+3t1e0P52sqKgQ3dXVFalfRjwIGg8iFrOaMC4vLz/8/erqKvCe29tbU66trc27X0Y8CBoPgsaDiH2OHx0dFX18fCy6tbU18J7q6uov98uIB0HjQcQ+1Wj02qzWPv62Qk4n/yNoPAimGoV+z/7y8hJYz98ioncwR4URD4LGg6DxIGKf4/U6q94FHPZ0mslkTDnsFEgQjHgQNB7Et6ea6elp0clk0lwbGxv77u7yxt/p+/DwILqmpkb09vZ2YBv19fWmrNdco8KIB0HjQRR0e8fR0ZEp65dL+/v75trMzEyhhuH29vZEV1ZWmmt693Bpaalo/6zUwMCA6OXlZXNNn8vyz8AGwYgHQeNB0HgQBc3xc3Nzpqynl/7bP30yQ2ufnZ0d0fpJs6enx9RraWkRrb814Pc7Pz8venV1NbDflZUV0UNDQ+bazc2N6LBdxhpGPAgaDwK2W1hvpXDOrlvq4/Gvr6+mni7r6Z//NST9FKqfTtfW1ky9hYWFSOM9PDwU7R+p11PNqDDiQdB4EDQeBGwhZHBwMFK9qakpU9afzdKnL/xt1Z/Ju2HoN5D+IeXPwIgHQeNBxP7wWVTW19dF68Ue5/6c8kaBEQ+CxoNgqolIe3u76LOzsy+3x4gHQeNB0HgQzPEgGPEgaDwIGg+CxoOg8SBoPAgaD4LGg6DxIGg8CBoPgsaDeAfRIdLv18D7YwAAAABJRU5ErkJggg==\" y=\"-6.924138\"/>\r\n   </g>\r\n   <g id=\"patch_3\">\r\n    <path d=\"M 10.7 100.924138 \r\nL 10.7 7.2 \r\n\" style=\"fill:none;stroke:#000000;stroke-linecap:square;stroke-linejoin:miter;stroke-width:0.8;\"/>\r\n   </g>\r\n   <g id=\"patch_4\">\r\n    <path d=\"M 104.424138 100.924138 \r\nL 104.424138 7.2 \r\n\" style=\"fill:none;stroke:#000000;stroke-linecap:square;stroke-linejoin:miter;stroke-width:0.8;\"/>\r\n   </g>\r\n   <g id=\"patch_5\">\r\n    <path d=\"M 10.7 100.924138 \r\nL 104.424138 100.924138 \r\n\" style=\"fill:none;stroke:#000000;stroke-linecap:square;stroke-linejoin:miter;stroke-width:0.8;\"/>\r\n   </g>\r\n   <g id=\"patch_6\">\r\n    <path d=\"M 10.7 7.2 \r\nL 104.424138 7.2 \r\n\" style=\"fill:none;stroke:#000000;stroke-linecap:square;stroke-linejoin:miter;stroke-width:0.8;\"/>\r\n   </g>\r\n  </g>\r\n </g>\r\n <defs>\r\n  <clipPath id=\"p53cb04c698\">\r\n   <rect height=\"93.724138\" width=\"93.724138\" x=\"10.7\" y=\"7.2\"/>\r\n  </clipPath>\r\n </defs>\r\n</svg>\r\n",
                        "image/png": "[encoded data removed]"
                    },
                    "metadata": {
                        "needs_background": "light"
                    }
                }
            ],
            "metadata": {}
        },
        {
            "cell_type": "code",
            "execution_count": 19,
            "source": [
                "import matplotlib.pyplot as plt\r\n",
                "fig = plt.figure(figsize=(10,10))\r\n",
                "for num, data in enumerate(test_data[6:7]):\r\n",
                "    img_data = data[0]  # 0 index there is image data in 1 index image number\r\n",
                "    y = fig.add_subplot(5,5,num+1)\r\n",
                "    orig = img_data\r\n",
                "    data = img_data.reshape(28,28,1)\r\n",
                "    model_out = model.predict([data])\r\n",
                "    result = np.argmax(model_out)\r\n",
                "    y.imshow(orig, cmap = 'gray')\r\n",
                "    if result == 0:\r\n",
                "        print(\"Prediction: ૦\")\r\n",
                "    if result == 1:\r\n",
                "        result= \"૧\"\r\n",
                "        print(\"Prediction: \"+str(result))\r\n",
                "    if result == 2:\r\n",
                "        result =\"૨\"\r\n",
                "        print(\"Prediction: \"+str(result))\r\n",
                "    if result == 3:\r\n",
                "        result = \"૩\"\r\n",
                "        print(\"Prediction: \"+str(result))\r\n",
                "    if result == 4:\r\n",
                "        result = \"૪\"\r\n",
                "        print(\"Prediction: \"+str(result))\r\n",
                "    if result == 5:\r\n",
                "        result = \"૫\"\r\n",
                "        print(\"Prediction: \"+str(result))\r\n",
                "    if result == 6:\r\n",
                "        result = \"૬\"\r\n",
                "        print(\"Prediction: \"+str(result))\r\n",
                "    if result == 7:\r\n",
                "        result = \"૭\"\r\n",
                "        print(\"Prediction: \"+str(result))\r\n",
                "    if result == 8:\r\n",
                "        result = \"૮\"\r\n",
                "        print(\"Prediction: \"+str(result))\r\n",
                "    if result == 9:\r\n",
                "        result = \"૯\"\r\n",
                "        print(\"Prediction: \"+str(result))\r\n",
                "    str_label = \"Prediction: \"+str(result)\r\n",
                "    #y.imshow(orig, cmap = 'gray')\r\n",
                "    y.axes.get_xaxis().set_visible(False)\r\n",
                "    y.axes.get_yaxis().set_visible(False)\r\n",
                "plt.show()"
            ],
            "outputs": [
                {
                    "output_type": "stream",
                    "name": "stdout",
                    "text": [
                        "Prediction: ૧\n"
                    ]
                },
                {
                    "output_type": "display_data",
                    "data": {
                        "text/plain": [
                            "<Figure size 720x720 with 1 Axes>"
                        ],
                        "image/svg+xml": "<?xml version=\"1.0\" encoding=\"utf-8\" standalone=\"no\"?>\r\n<!DOCTYPE svg PUBLIC \"-//W3C//DTD SVG 1.1//EN\"\r\n  \"http://www.w3.org/Graphics/SVG/1.1/DTD/svg11.dtd\">\r\n<svg height=\"111.624138pt\" version=\"1.1\" viewBox=\"0 0 111.624138 111.624138\" width=\"111.624138pt\" xmlns=\"http://www.w3.org/2000/svg\" xmlns:xlink=\"http://www.w3.org/1999/xlink\">\r\n <metadata>\r\n  <rdf:RDF xmlns:cc=\"http://creativecommons.org/ns#\" xmlns:dc=\"http://purl.org/dc/elements/1.1/\" xmlns:rdf=\"http://www.w3.org/1999/02/22-rdf-syntax-ns#\">\r\n   <cc:Work>\r\n    <dc:type rdf:resource=\"http://purl.org/dc/dcmitype/StillImage\"/>\r\n    <dc:date>2021-08-21T08:49:10.610245</dc:date>\r\n    <dc:format>image/svg+xml</dc:format>\r\n    <dc:creator>\r\n     <cc:Agent>\r\n      <dc:title>Matplotlib v3.4.2, https://matplotlib.org/</dc:title>\r\n     </cc:Agent>\r\n    </dc:creator>\r\n   </cc:Work>\r\n  </rdf:RDF>\r\n </metadata>\r\n <defs>\r\n  <style type=\"text/css\">*{stroke-linecap:butt;stroke-linejoin:round;}</style>\r\n </defs>\r\n <g id=\"figure_1\">\r\n  <g id=\"patch_1\">\r\n   <path d=\"M 0 111.624138 \r\nL 111.624138 111.624138 \r\nL 111.624138 -0 \r\nL 0 -0 \r\nz\r\n\" style=\"fill:none;\"/>\r\n  </g>\r\n  <g id=\"axes_1\">\r\n   <g id=\"patch_2\">\r\n    <path d=\"M 10.7 100.924138 \r\nL 104.424138 100.924138 \r\nL 104.424138 7.2 \r\nL 10.7 7.2 \r\nz\r\n\" style=\"fill:#ffffff;\"/>\r\n   </g>\r\n   <g clip-path=\"url(#pac99365da4)\">\r\n    <image height=\"94\" id=\"imagea859eedda4\" transform=\"scale(1 -1)translate(0 -94)\" width=\"94\" x=\"10.7\" xlink:href=\"data:image/png;base64,\r\niVBORw0KGgoAAAANSUhEUgAAAF4AAABeCAYAAACq0qNuAAADK0lEQVR4nO2bvU4qQRiGB5GIAhoIIaEwEENBY0PkGgwFJbfBBXAXhJaKmpqSWyD2gAkJWhD5iajIj5zuOzN7sueA/Ly7nvep3nUmm/HJ57i7M+NRSq0VOTon6AH8r1A8CIoHQfEgKB4ExYOgeBAUD4LiQVA8CIoHQfEgKB4ExYOgeBAUD+IUPYBDMRqNJJ+e/v41fT6f0e/r60tyv9+3vd/t7a3k2Wy28/hY8SAoHoRH/ZA11+FwaNt2eXkpeT6f2/ZbLpeSrdOJ3++3bSuVSpKr1eq/B6tY8TAoHgTFg3D14+Tf5nWv1ytZf5zclLe3N+P68/NT8npt/ls8Ozvb+v6seBAUD8LVU43+J35yYtbQ+fn5TvcOBAK2bfF43Li+urra+v6seBAUD8LVb669Xk/yxcWF0RaNRo89nK1gxYOgeBAUD8J1j5O5XE5yOByWbH3TdDqseBAUD8J1j5Ptdluy/sb4/v5u9EskEkcb03dgxYOgeBCOn2oeHx+N62QyKVnfmuHxeIx++jT0+vp6mMHtACseBMWDoHgQjnlzrVQqku/v7yVPp1Ojn773RZ/X9Z8r5cx5XYcVD4LiQRx1qmm1WpJjsZjRpm+L06eXRqNh9NO30gWDQcnWdVCnw4oHQfEgDjrV6GuiSik1Ho8lPz09GW36zq9MJiM5nU4b/QqFguTBYLCPYUJgxYOgeBAUD2Lvc3y5XJZsXZzQT2Nks9mN7tdsNo1rfdveZDL5zhAdASseBMWD2PtUk8/nJVsXJ/THyU2xfuyKRCKS9WnNbbDiQVA8iL1PNfoBAf3ckFJ/nh2yo1gsSrYegdefZGq12neG6AhY8SAoHgTFg9j7vpq7uzvJ9XrdaFssFpKtXx1Xq5XkTqcj2Xqw6+PjQ/L19fVugwXCigdB8SAOuoWv2+0a1/p66fPzs9Fmd8jAel41lUrtc4gwWPEgKB4ExYM46GL3zc2Ncf3w8CBZ/8qolLmvJhQKSX55eTnQ6LCw4kFQPAjHnwj5qbDiQVA8CIoHQfEgKB4ExYOgeBAUD4LiQVA8CIoHQfEgKB4ExYOgeBAUD4LiQVA8CIoH8QvR8rIoRextvgAAAABJRU5ErkJggg==\" y=\"-6.924138\"/>\r\n   </g>\r\n   <g id=\"patch_3\">\r\n    <path d=\"M 10.7 100.924138 \r\nL 10.7 7.2 \r\n\" style=\"fill:none;stroke:#000000;stroke-linecap:square;stroke-linejoin:miter;stroke-width:0.8;\"/>\r\n   </g>\r\n   <g id=\"patch_4\">\r\n    <path d=\"M 104.424138 100.924138 \r\nL 104.424138 7.2 \r\n\" style=\"fill:none;stroke:#000000;stroke-linecap:square;stroke-linejoin:miter;stroke-width:0.8;\"/>\r\n   </g>\r\n   <g id=\"patch_5\">\r\n    <path d=\"M 10.7 100.924138 \r\nL 104.424138 100.924138 \r\n\" style=\"fill:none;stroke:#000000;stroke-linecap:square;stroke-linejoin:miter;stroke-width:0.8;\"/>\r\n   </g>\r\n   <g id=\"patch_6\">\r\n    <path d=\"M 10.7 7.2 \r\nL 104.424138 7.2 \r\n\" style=\"fill:none;stroke:#000000;stroke-linecap:square;stroke-linejoin:miter;stroke-width:0.8;\"/>\r\n   </g>\r\n  </g>\r\n </g>\r\n <defs>\r\n  <clipPath id=\"pac99365da4\">\r\n   <rect height=\"93.724138\" width=\"93.724138\" x=\"10.7\" y=\"7.2\"/>\r\n  </clipPath>\r\n </defs>\r\n</svg>\r\n",
                        "image/png": "[encoded data removed]"
                    },
                    "metadata": {
                        "needs_background": "light"
                    }
                }
            ],
            "metadata": {}
        },
        {
            "cell_type": "code",
            "execution_count": 66,
            "source": [
                "import matplotlib.pyplot as plt\r\n",
                "fig = plt.figure(figsize=(10,10))\r\n",
                "for num, data in enumerate(test_data[9:10]):\r\n",
                "    img_data = data[0]  # 0 index there is image data in 1 index image number\r\n",
                "    y = fig.add_subplot(5,5,num+1)\r\n",
                "    orig = img_data\r\n",
                "    data = img_data.reshape(28,28,1)\r\n",
                "    model_out = model.predict([data])\r\n",
                "    result = np.argmax(model_out)\r\n",
                "    y.imshow(orig, cmap = 'gray')\r\n",
                "    if result == 0:\r\n",
                "        print(\"Prediction: ૦\")\r\n",
                "    if result == 1:\r\n",
                "        result= \"૧\"\r\n",
                "        print(\"Prediction: \"+str(result))\r\n",
                "    if result == 2:\r\n",
                "        result =\"૨\"\r\n",
                "        print(\"Prediction: \"+str(result))\r\n",
                "    if result == 3:\r\n",
                "        result = \"૩\"\r\n",
                "        print(\"Prediction: \"+str(result))\r\n",
                "    if result == 4:\r\n",
                "        result = \"૪\"\r\n",
                "        print(\"Prediction: \"+str(result))\r\n",
                "    if result == 5:\r\n",
                "        result = \"૫\"\r\n",
                "        print(\"Prediction: \"+str(result))\r\n",
                "    if result == 6:\r\n",
                "        result = \"૬\"\r\n",
                "        print(\"Prediction: \"+str(result))\r\n",
                "    if result == 7:\r\n",
                "        result = \"૭\"\r\n",
                "        print(\"Prediction: \"+str(result))\r\n",
                "    if result == 8:\r\n",
                "        result = \"૮\"\r\n",
                "        print(\"Prediction: \"+str(result))\r\n",
                "    if result == 9:\r\n",
                "        result = \"૯\"\r\n",
                "        print(\"Prediction: \"+str(result))\r\n",
                "    str_label = \"Prediction: \"+str(result)\r\n",
                "    #y.imshow(orig, cmap = 'gray')\r\n",
                "    y.axes.get_xaxis().set_visible(False)\r\n",
                "    y.axes.get_yaxis().set_visible(False)\r\n",
                "plt.show()"
            ],
            "outputs": [
                {
                    "output_type": "stream",
                    "name": "stdout",
                    "text": [
                        "Prediction: ૩\n"
                    ]
                },
                {
                    "output_type": "display_data",
                    "data": {
                        "text/plain": [
                            "<Figure size 720x720 with 1 Axes>"
                        ],
                        "image/svg+xml": "<?xml version=\"1.0\" encoding=\"utf-8\" standalone=\"no\"?>\r\n<!DOCTYPE svg PUBLIC \"-//W3C//DTD SVG 1.1//EN\"\r\n  \"http://www.w3.org/Graphics/SVG/1.1/DTD/svg11.dtd\">\r\n<svg height=\"111.624138pt\" version=\"1.1\" viewBox=\"0 0 111.624138 111.624138\" width=\"111.624138pt\" xmlns=\"http://www.w3.org/2000/svg\" xmlns:xlink=\"http://www.w3.org/1999/xlink\">\r\n <metadata>\r\n  <rdf:RDF xmlns:cc=\"http://creativecommons.org/ns#\" xmlns:dc=\"http://purl.org/dc/elements/1.1/\" xmlns:rdf=\"http://www.w3.org/1999/02/22-rdf-syntax-ns#\">\r\n   <cc:Work>\r\n    <dc:type rdf:resource=\"http://purl.org/dc/dcmitype/StillImage\"/>\r\n    <dc:date>2021-08-21T10:42:32.111954</dc:date>\r\n    <dc:format>image/svg+xml</dc:format>\r\n    <dc:creator>\r\n     <cc:Agent>\r\n      <dc:title>Matplotlib v3.4.2, https://matplotlib.org/</dc:title>\r\n     </cc:Agent>\r\n    </dc:creator>\r\n   </cc:Work>\r\n  </rdf:RDF>\r\n </metadata>\r\n <defs>\r\n  <style type=\"text/css\">*{stroke-linecap:butt;stroke-linejoin:round;}</style>\r\n </defs>\r\n <g id=\"figure_1\">\r\n  <g id=\"patch_1\">\r\n   <path d=\"M 0 111.624138 \r\nL 111.624138 111.624138 \r\nL 111.624138 -0 \r\nL 0 -0 \r\nz\r\n\" style=\"fill:none;\"/>\r\n  </g>\r\n  <g id=\"axes_1\">\r\n   <g id=\"patch_2\">\r\n    <path d=\"M 10.7 100.924138 \r\nL 104.424138 100.924138 \r\nL 104.424138 7.2 \r\nL 10.7 7.2 \r\nz\r\n\" style=\"fill:#ffffff;\"/>\r\n   </g>\r\n   <g clip-path=\"url(#p150c77b7ab)\">\r\n    <image height=\"94\" id=\"image77f4356709\" transform=\"scale(1 -1)translate(0 -94)\" width=\"94\" x=\"10.7\" xlink:href=\"data:image/png;base64,\r\niVBORw0KGgoAAAANSUhEUgAAAF4AAABeCAYAAACq0qNuAAADpUlEQVR4nO2cO0tkQRCFa3yNbwcfiKhgoKDZiCb+AgNjI/+C/8DI3NDUWHMxNTEVBMFAMTAQFEXx/X5stLVVzYzcde7c0+6eLzo93Uy3h6Km+nZfcyLyKSRzatAL+F+h8SBoPAgaD4LGg6DxIGg8CBoPgsaDoPEgaDwIGg+CxoOg8SBoPAgaD4LGg6DxIGg8CBoPgsaDoPEgaDyIOvQCSnF2dqb6/Pzc9dXW1qp+fX1V3dra6sadnp6qnpqaSnuJFcOIB0HjQeQkkit8Ozs7qhsaGlTn83k3rr29XfXz83PJz0VE7u/vE81rU1RjY2PJNVQDRjwIGg8CVtUsLS2V7Ts+PlY9PT2d6PsWFhZce3FxUfXe3p7qnp4eN86mpIeHB9VXV1duXKFQSLSOpDDiQdB4EDQeRDTl5MzMjOqNjQ3IGuwu+fb21vXd3NyoLhaLFc/FiAdB40FEk2pi4OTkRHVLS4vry+Vyqtva2iqeixEPgsaDiPJ5PIq+vj7Vh4eHri98WFcpjHgQNB4EjQfx43L8xcVFyc+bm5td2z7hHBkZ+et5vion04ARD4LGg4hy53p9fa367e3N9X1+/lnu+/u76rDcs6nBHnDU1PhY6+3tVX1wcKC6v7/fjfv4+FDNnesPhsaDiLKqeXl5UW3TjojI4+OjavsMf3193Y2zZ6T2qkZdnf+T7W20p6cn1ZeXl27c7OxskqUnhhEPgsaDoPEgoiwn9/f3VXd3d7u+MPf+pqury7Xt74QtQW35KOLLTlsy2hJUJJ0S0sKIB0HjQUSZaizhNQu787TX78JUY8tQWyaGO9zOzk7Vd3d3JbWIPyRJA0Y8CBoPIsqdqyWsJoaGhlTv7u6qnpubc+PW1tYSfb/d8Q4PD6tO+3ZwCCMeBI0HQeNBRJ/jQ46OjlSHL5x9B/sbYs9Z7W63GjDiQdB4EJmmmsnJSdXb29tZTl2WpqYm1fbqyPj4eFXnZcSDoPEgaDyITHP8/Py86jDHLy8vZ7KGra0t17aPBurr6zNZgwgjHgaNB5HpQYg9Sw2v5tkzUnt3ZmVlxY0L2+XY3NxUPTAwoNqeq4r4HerY2Fii704DRjwIGg8Cdua6urrq2hMTE6rtlTt7XipS/j8vhS8O2JvEHR0dqsNUMzo6mnDF6cKIB0HjQdB4ENHfq7FvaYj4fP3VmyP2gGNwcLBKq/s+jHgQNB5E9KnmX4URD4LGg6DxIGg8CBoPgsaDoPEgaDwIGg/iF5ko6CRCW8x0AAAAAElFTkSuQmCC\" y=\"-6.924138\"/>\r\n   </g>\r\n   <g id=\"patch_3\">\r\n    <path d=\"M 10.7 100.924138 \r\nL 10.7 7.2 \r\n\" style=\"fill:none;stroke:#000000;stroke-linecap:square;stroke-linejoin:miter;stroke-width:0.8;\"/>\r\n   </g>\r\n   <g id=\"patch_4\">\r\n    <path d=\"M 104.424138 100.924138 \r\nL 104.424138 7.2 \r\n\" style=\"fill:none;stroke:#000000;stroke-linecap:square;stroke-linejoin:miter;stroke-width:0.8;\"/>\r\n   </g>\r\n   <g id=\"patch_5\">\r\n    <path d=\"M 10.7 100.924138 \r\nL 104.424138 100.924138 \r\n\" style=\"fill:none;stroke:#000000;stroke-linecap:square;stroke-linejoin:miter;stroke-width:0.8;\"/>\r\n   </g>\r\n   <g id=\"patch_6\">\r\n    <path d=\"M 10.7 7.2 \r\nL 104.424138 7.2 \r\n\" style=\"fill:none;stroke:#000000;stroke-linecap:square;stroke-linejoin:miter;stroke-width:0.8;\"/>\r\n   </g>\r\n  </g>\r\n </g>\r\n <defs>\r\n  <clipPath id=\"p150c77b7ab\">\r\n   <rect height=\"93.724138\" width=\"93.724138\" x=\"10.7\" y=\"7.2\"/>\r\n  </clipPath>\r\n </defs>\r\n</svg>\r\n",
                        "image/png": "[encoded data removed]"
                    },
                    "metadata": {
                        "needs_background": "light"
                    }
                }
            ],
            "metadata": {}
        },
        {
            "cell_type": "code",
            "execution_count": 69,
            "source": [
                "import matplotlib.pyplot as plt\r\n",
                "fig = plt.figure(figsize=(10,10))\r\n",
                "for num, data in enumerate(test_data[2:3]):\r\n",
                "    img_data = data[0]  # 0 index there is image data in 1 index image number\r\n",
                "    y = fig.add_subplot(5,5,num+1)\r\n",
                "    orig = img_data\r\n",
                "    data = img_data.reshape(28,28,1)\r\n",
                "    model_out = model.predict([data])\r\n",
                "    result = np.argmax(model_out)\r\n",
                "    y.imshow(orig, cmap = 'gray')\r\n",
                "    if result == 0:\r\n",
                "        print(\"Prediction: ૦\")\r\n",
                "    if result == 1:\r\n",
                "        result= \"૧\"\r\n",
                "        print(\"Prediction: \"+str(result))\r\n",
                "    if result == 2:\r\n",
                "        result =\"૨\"\r\n",
                "        print(\"Prediction: \"+str(result))\r\n",
                "    if result == 3:\r\n",
                "        result = \"૩\"\r\n",
                "        print(\"Prediction: \"+str(result))\r\n",
                "    if result == 4:\r\n",
                "        result = \"૪\"\r\n",
                "        print(\"Prediction: \"+str(result))\r\n",
                "    if result == 5:\r\n",
                "        result = \"૫\"\r\n",
                "        print(\"Prediction: \"+str(result))\r\n",
                "    if result == 6:\r\n",
                "        result = \"૬\"\r\n",
                "        print(\"Prediction: \"+str(result))\r\n",
                "    if result == 7:\r\n",
                "        result = \"૭\"\r\n",
                "        print(\"Prediction: \"+str(result))\r\n",
                "    if result == 8:\r\n",
                "        result = \"૮\"\r\n",
                "        print(\"Prediction: \"+str(result))\r\n",
                "    if result == 9:\r\n",
                "        result = \"૯\"\r\n",
                "        print(\"Prediction: \"+str(result))\r\n",
                "    str_label = \"Prediction: \"+str(result)\r\n",
                "    #y.imshow(orig, cmap = 'gray')\r\n",
                "    y.axes.get_xaxis().set_visible(False)\r\n",
                "    y.axes.get_yaxis().set_visible(False)\r\n",
                "plt.show()"
            ],
            "outputs": [
                {
                    "output_type": "stream",
                    "name": "stdout",
                    "text": [
                        "Prediction: ૯\n"
                    ]
                },
                {
                    "output_type": "display_data",
                    "data": {
                        "text/plain": [
                            "<Figure size 720x720 with 1 Axes>"
                        ],
                        "image/svg+xml": "<?xml version=\"1.0\" encoding=\"utf-8\" standalone=\"no\"?>\r\n<!DOCTYPE svg PUBLIC \"-//W3C//DTD SVG 1.1//EN\"\r\n  \"http://www.w3.org/Graphics/SVG/1.1/DTD/svg11.dtd\">\r\n<svg height=\"111.624138pt\" version=\"1.1\" viewBox=\"0 0 111.624138 111.624138\" width=\"111.624138pt\" xmlns=\"http://www.w3.org/2000/svg\" xmlns:xlink=\"http://www.w3.org/1999/xlink\">\r\n <metadata>\r\n  <rdf:RDF xmlns:cc=\"http://creativecommons.org/ns#\" xmlns:dc=\"http://purl.org/dc/elements/1.1/\" xmlns:rdf=\"http://www.w3.org/1999/02/22-rdf-syntax-ns#\">\r\n   <cc:Work>\r\n    <dc:type rdf:resource=\"http://purl.org/dc/dcmitype/StillImage\"/>\r\n    <dc:date>2021-08-21T10:43:31.099066</dc:date>\r\n    <dc:format>image/svg+xml</dc:format>\r\n    <dc:creator>\r\n     <cc:Agent>\r\n      <dc:title>Matplotlib v3.4.2, https://matplotlib.org/</dc:title>\r\n     </cc:Agent>\r\n    </dc:creator>\r\n   </cc:Work>\r\n  </rdf:RDF>\r\n </metadata>\r\n <defs>\r\n  <style type=\"text/css\">*{stroke-linecap:butt;stroke-linejoin:round;}</style>\r\n </defs>\r\n <g id=\"figure_1\">\r\n  <g id=\"patch_1\">\r\n   <path d=\"M 0 111.624138 \r\nL 111.624138 111.624138 \r\nL 111.624138 -0 \r\nL 0 -0 \r\nz\r\n\" style=\"fill:none;\"/>\r\n  </g>\r\n  <g id=\"axes_1\">\r\n   <g id=\"patch_2\">\r\n    <path d=\"M 10.7 100.924138 \r\nL 104.424138 100.924138 \r\nL 104.424138 7.2 \r\nL 10.7 7.2 \r\nz\r\n\" style=\"fill:#ffffff;\"/>\r\n   </g>\r\n   <g clip-path=\"url(#p66b8d63816)\">\r\n    <image height=\"94\" id=\"image96e5a1790a\" transform=\"scale(1 -1)translate(0 -94)\" width=\"94\" x=\"10.7\" xlink:href=\"data:image/png;base64,\r\niVBORw0KGgoAAAANSUhEUgAAAF4AAABeCAYAAACq0qNuAAADb0lEQVR4nO2cy0ojQRSGT8ZrvKAGNxHEC0h2PoAQEfQFfIKsBcEn8CFcuvHyHm6D6EpUkBgTDREXomgWEfG+muOpJpmZlN3+GfN/q7/pCjl8HIrqVHViIvIu5Nv5hS6gVaF4EBQPguJBUDwIigdB8SAoHgTFg6B4EBQPguJBUDwIigdB8SAoHgTFg6B4EBQPguJBUDwIigdB8SDa0QX8Jp/Pa359fdUci8Wcce/vn8eA2ts/y+/v73fGdXd31/zMw8ODMy6dTmsuFAqNlu0NOx4ExYOISYRH+EqlknP99PRUd+zIyIjmnp4ezcGp4fHxsebn29ranGs71djp6k9Tl81LS0vOuM3Nzbq1+8COB0HxIEJZ1VxdXWm+ubnRHFxpVKtVzfF43Ln3/PysOTgdhEm5XHauBwcHNR8fH2ve2dmJrAYRdjwMigdB8SBCWU6enJxo7uzsrJlFREZHR7/6VT8GdjwIigfhtZzM5XLO9fDwsOa3tzfNp6ennmX9fNjxICgehNdUc39/71zbH6Q6Ojo0B59cj46ONN/d3Tn3ZmdnfUr5b2HHg6B4EBQPwmuOD2462CVkV1eX5unpaWfcxcVFzXEiItlsVvP19bXmxcVFnxKbHnY8CIoH4TXV2OMXIu4mht3sCDI+Pq55d3fXuTc5Oak5mUxqtj/AiYhUKhXNKysrmvf29v5SdXPBjgdB8SC8fo/f3t52rmdmZjTbFY+dPhqhWCzWvWdXQ/YJuq+vzxlnp6Tg6qoZYMeDoHgQFA/Ca44P7qUeHBxo7u3t1Tw2NuZdWD3m5+c1b2xsaA4uYwcGBjTbY4BTU1Oh1+QDOx4ExYMI5XjH4eGh5qGhIc3Bg/5zc3Nf/ap/5vz8XLN9gSHI1taW5tXV1ShLcmDHg6B4EKGcFl5fX9e8vLys2ffJNQwmJiY02xPCt7e3zrjvfO/Jwo4HQfEgKB5E6C+f2bMz9ryNiEgqldJs92lbEXY8CIoHEfor9XZzIpFIOPfOzs402ydLEffHr1aAHQ+C4kFQPIhI/8tgf3/fubYbKC8vL849u1m9sLCg+fLyMqLqsLDjQVA8iEinmkZYW1vTbP9fIJPJAKqJHnY8CIoH0TRTTavBjgdB8SAoHgTFg6B4EBQPguJBUDwIigdB8SAoHgTFg6B4EBQPguJBUDyID8P8xZ3NoQcOAAAAAElFTkSuQmCC\" y=\"-6.924138\"/>\r\n   </g>\r\n   <g id=\"patch_3\">\r\n    <path d=\"M 10.7 100.924138 \r\nL 10.7 7.2 \r\n\" style=\"fill:none;stroke:#000000;stroke-linecap:square;stroke-linejoin:miter;stroke-width:0.8;\"/>\r\n   </g>\r\n   <g id=\"patch_4\">\r\n    <path d=\"M 104.424138 100.924138 \r\nL 104.424138 7.2 \r\n\" style=\"fill:none;stroke:#000000;stroke-linecap:square;stroke-linejoin:miter;stroke-width:0.8;\"/>\r\n   </g>\r\n   <g id=\"patch_5\">\r\n    <path d=\"M 10.7 100.924138 \r\nL 104.424138 100.924138 \r\n\" style=\"fill:none;stroke:#000000;stroke-linecap:square;stroke-linejoin:miter;stroke-width:0.8;\"/>\r\n   </g>\r\n   <g id=\"patch_6\">\r\n    <path d=\"M 10.7 7.2 \r\nL 104.424138 7.2 \r\n\" style=\"fill:none;stroke:#000000;stroke-linecap:square;stroke-linejoin:miter;stroke-width:0.8;\"/>\r\n   </g>\r\n  </g>\r\n </g>\r\n <defs>\r\n  <clipPath id=\"p66b8d63816\">\r\n   <rect height=\"93.724138\" width=\"93.724138\" x=\"10.7\" y=\"7.2\"/>\r\n  </clipPath>\r\n </defs>\r\n</svg>\r\n",
                        "image/png": "[encoded data removed]"
                    },
                    "metadata": {
                        "needs_background": "light"
                    }
                }
            ],
            "metadata": {}
        },
        {
            "cell_type": "code",
            "execution_count": 72,
            "source": [
                "import matplotlib.pyplot as plt\r\n",
                "fig = plt.figure(figsize=(10,10))\r\n",
                "for num, data in enumerate(test_data[5:6]):\r\n",
                "    img_data = data[0]  # 0 index there is image data in 1 index image number\r\n",
                "    y = fig.add_subplot(5,5,num+1)\r\n",
                "    orig = img_data\r\n",
                "    data = img_data.reshape(28,28,1)\r\n",
                "    model_out = model.predict([data])\r\n",
                "    result = np.argmax(model_out)\r\n",
                "    y.imshow(orig, cmap = 'gray')\r\n",
                "    if result == 0:\r\n",
                "        print(\"Prediction: ૦\")\r\n",
                "    if result == 1:\r\n",
                "        result= \"૧\"\r\n",
                "        print(\"Prediction: \"+str(result))\r\n",
                "    if result == 2:\r\n",
                "        result =\"૨\"\r\n",
                "        print(\"Prediction: \"+str(result))\r\n",
                "    if result == 3:\r\n",
                "        result = \"૩\"\r\n",
                "        print(\"Prediction: \"+str(result))\r\n",
                "    if result == 4:\r\n",
                "        result = \"૪\"\r\n",
                "        print(\"Prediction: \"+str(result))\r\n",
                "    if result == 5:\r\n",
                "        result = \"૫\"\r\n",
                "        print(\"Prediction: \"+str(result))\r\n",
                "    if result == 6:\r\n",
                "        result = \"૬\"\r\n",
                "        print(\"Prediction: \"+str(result))\r\n",
                "    if result == 7:\r\n",
                "        result = \"૭\"\r\n",
                "        print(\"Prediction: \"+str(result))\r\n",
                "    if result == 8:\r\n",
                "        result = \"૮\"\r\n",
                "        print(\"Prediction: \"+str(result))\r\n",
                "    if result == 9:\r\n",
                "        result = \"૯\"\r\n",
                "        print(\"Prediction: \"+str(result))\r\n",
                "    str_label = \"Prediction: \"+str(result)\r\n",
                "    #y.imshow(orig, cmap = 'gray')\r\n",
                "    y.axes.get_xaxis().set_visible(False)\r\n",
                "    y.axes.get_yaxis().set_visible(False)\r\n",
                "plt.show()"
            ],
            "outputs": [
                {
                    "output_type": "stream",
                    "name": "stdout",
                    "text": [
                        "Prediction: ૧\n"
                    ]
                },
                {
                    "output_type": "display_data",
                    "data": {
                        "text/plain": [
                            "<Figure size 720x720 with 1 Axes>"
                        ],
                        "image/svg+xml": "<?xml version=\"1.0\" encoding=\"utf-8\" standalone=\"no\"?>\r\n<!DOCTYPE svg PUBLIC \"-//W3C//DTD SVG 1.1//EN\"\r\n  \"http://www.w3.org/Graphics/SVG/1.1/DTD/svg11.dtd\">\r\n<svg height=\"111.624138pt\" version=\"1.1\" viewBox=\"0 0 111.624138 111.624138\" width=\"111.624138pt\" xmlns=\"http://www.w3.org/2000/svg\" xmlns:xlink=\"http://www.w3.org/1999/xlink\">\r\n <metadata>\r\n  <rdf:RDF xmlns:cc=\"http://creativecommons.org/ns#\" xmlns:dc=\"http://purl.org/dc/elements/1.1/\" xmlns:rdf=\"http://www.w3.org/1999/02/22-rdf-syntax-ns#\">\r\n   <cc:Work>\r\n    <dc:type rdf:resource=\"http://purl.org/dc/dcmitype/StillImage\"/>\r\n    <dc:date>2021-08-21T10:44:16.057360</dc:date>\r\n    <dc:format>image/svg+xml</dc:format>\r\n    <dc:creator>\r\n     <cc:Agent>\r\n      <dc:title>Matplotlib v3.4.2, https://matplotlib.org/</dc:title>\r\n     </cc:Agent>\r\n    </dc:creator>\r\n   </cc:Work>\r\n  </rdf:RDF>\r\n </metadata>\r\n <defs>\r\n  <style type=\"text/css\">*{stroke-linecap:butt;stroke-linejoin:round;}</style>\r\n </defs>\r\n <g id=\"figure_1\">\r\n  <g id=\"patch_1\">\r\n   <path d=\"M 0 111.624138 \r\nL 111.624138 111.624138 \r\nL 111.624138 -0 \r\nL 0 -0 \r\nz\r\n\" style=\"fill:none;\"/>\r\n  </g>\r\n  <g id=\"axes_1\">\r\n   <g id=\"patch_2\">\r\n    <path d=\"M 10.7 100.924138 \r\nL 104.424138 100.924138 \r\nL 104.424138 7.2 \r\nL 10.7 7.2 \r\nz\r\n\" style=\"fill:#ffffff;\"/>\r\n   </g>\r\n   <g clip-path=\"url(#p257de11965)\">\r\n    <image height=\"94\" id=\"image44a1ac5f93\" transform=\"scale(1 -1)translate(0 -94)\" width=\"94\" x=\"10.7\" xlink:href=\"data:image/png;base64,\r\niVBORw0KGgoAAAANSUhEUgAAAF4AAABeCAYAAACq0qNuAAADK0lEQVR4nO2bvU4qQRiGB5GIAhoIIaEwEENBY0PkGgwFJbfBBXAXhJaKmpqSWyD2gAkJWhD5iajIj5zuOzN7sueA/Ly7nvep3nUmm/HJ57i7M+NRSq0VOTon6AH8r1A8CIoHQfEgKB4ExYOgeBAUD4LiQVA8CIoHQfEgKB4ExYOgeBAUD+IUPYBDMRqNJJ+e/v41fT6f0e/r60tyv9+3vd/t7a3k2Wy28/hY8SAoHoRH/ZA11+FwaNt2eXkpeT6f2/ZbLpeSrdOJ3++3bSuVSpKr1eq/B6tY8TAoHgTFg3D14+Tf5nWv1ytZf5zclLe3N+P68/NT8npt/ls8Ozvb+v6seBAUD8LVU43+J35yYtbQ+fn5TvcOBAK2bfF43Li+urra+v6seBAUD8LVb669Xk/yxcWF0RaNRo89nK1gxYOgeBAUD8J1j5O5XE5yOByWbH3TdDqseBAUD8J1j5Ptdluy/sb4/v5u9EskEkcb03dgxYOgeBCOn2oeHx+N62QyKVnfmuHxeIx++jT0+vp6mMHtACseBMWDoHgQjnlzrVQqku/v7yVPp1Ojn773RZ/X9Z8r5cx5XYcVD4LiQRx1qmm1WpJjsZjRpm+L06eXRqNh9NO30gWDQcnWdVCnw4oHQfEgDjrV6GuiSik1Ho8lPz09GW36zq9MJiM5nU4b/QqFguTBYLCPYUJgxYOgeBAUD2Lvc3y5XJZsXZzQT2Nks9mN7tdsNo1rfdveZDL5zhAdASseBMWD2PtUk8/nJVsXJ/THyU2xfuyKRCKS9WnNbbDiQVA8iL1PNfoBAf3ckFJ/nh2yo1gsSrYegdefZGq12neG6AhY8SAoHgTFg9j7vpq7uzvJ9XrdaFssFpKtXx1Xq5XkTqcj2Xqw6+PjQ/L19fVugwXCigdB8SAOuoWv2+0a1/p66fPzs9Fmd8jAel41lUrtc4gwWPEgKB4ExYM46GL3zc2Ncf3w8CBZ/8qolLmvJhQKSX55eTnQ6LCw4kFQPAjHnwj5qbDiQVA8CIoHQfEgKB4ExYOgeBAUD4LiQVA8CIoHQfEgKB4ExYOgeBAUD4LiQVA8CIoH8QvR8rIoRextvgAAAABJRU5ErkJggg==\" y=\"-6.924138\"/>\r\n   </g>\r\n   <g id=\"patch_3\">\r\n    <path d=\"M 10.7 100.924138 \r\nL 10.7 7.2 \r\n\" style=\"fill:none;stroke:#000000;stroke-linecap:square;stroke-linejoin:miter;stroke-width:0.8;\"/>\r\n   </g>\r\n   <g id=\"patch_4\">\r\n    <path d=\"M 104.424138 100.924138 \r\nL 104.424138 7.2 \r\n\" style=\"fill:none;stroke:#000000;stroke-linecap:square;stroke-linejoin:miter;stroke-width:0.8;\"/>\r\n   </g>\r\n   <g id=\"patch_5\">\r\n    <path d=\"M 10.7 100.924138 \r\nL 104.424138 100.924138 \r\n\" style=\"fill:none;stroke:#000000;stroke-linecap:square;stroke-linejoin:miter;stroke-width:0.8;\"/>\r\n   </g>\r\n   <g id=\"patch_6\">\r\n    <path d=\"M 10.7 7.2 \r\nL 104.424138 7.2 \r\n\" style=\"fill:none;stroke:#000000;stroke-linecap:square;stroke-linejoin:miter;stroke-width:0.8;\"/>\r\n   </g>\r\n  </g>\r\n </g>\r\n <defs>\r\n  <clipPath id=\"p257de11965\">\r\n   <rect height=\"93.724138\" width=\"93.724138\" x=\"10.7\" y=\"7.2\"/>\r\n  </clipPath>\r\n </defs>\r\n</svg>\r\n",
                        "image/png": "[encoded data removed]"
                    },
                    "metadata": {
                        "needs_background": "light"
                    }
                }
            ],
            "metadata": {}
        },
        {
            "cell_type": "code",
            "execution_count": 95,
            "source": [
                "import matplotlib.pyplot as plt\r\n",
                "fig = plt.figure(figsize=(10,10))\r\n",
                "for num, data in enumerate(test_data[6:7]):\r\n",
                "    img_data = data[0]  # 0 index there is image data in 1 index image number\r\n",
                "    y = fig.add_subplot(5,5,num+1)\r\n",
                "    orig = img_data\r\n",
                "    data = img_data.reshape(28,28,1)\r\n",
                "    model_out = model.predict([data])\r\n",
                "    result = np.argmax(model_out)\r\n",
                "    y.imshow(orig, cmap = 'gray')\r\n",
                "    if result == 0:\r\n",
                "        print(\"Prediction: ૦\")\r\n",
                "    if result == 1:\r\n",
                "        result= \"૧\"\r\n",
                "        print(\"Prediction: \"+str(result))\r\n",
                "    if result == 2:\r\n",
                "        result =\"૨\"\r\n",
                "        print(\"Prediction: \"+str(result))\r\n",
                "    if result == 3:\r\n",
                "        result = \"૩\"\r\n",
                "        print(\"Prediction: \"+str(result))\r\n",
                "    if result == 4:\r\n",
                "        result = \"૪\"\r\n",
                "        print(\"Prediction: \"+str(result))\r\n",
                "    if result == 5:\r\n",
                "        result = \"૫\"\r\n",
                "        print(\"Prediction: \"+str(result))\r\n",
                "    if result == 6:\r\n",
                "        result = \"૬\"\r\n",
                "        print(\"Prediction: \"+str(result))\r\n",
                "    if result == 7:\r\n",
                "        result = \"૭\"\r\n",
                "        print(\"Prediction: \"+str(result))\r\n",
                "    if result == 8:\r\n",
                "        result = \"૮\"\r\n",
                "        print(\"Prediction: \"+str(result))\r\n",
                "    if result == 9:\r\n",
                "        result = \"૯\"\r\n",
                "        print(\"Prediction: \"+str(result))\r\n",
                "    str_label = \"Prediction: \"+str(result)\r\n",
                "    #y.imshow(orig, cmap = 'gray')\r\n",
                "    y.axes.get_xaxis().set_visible(False)\r\n",
                "    y.axes.get_yaxis().set_visible(False)\r\n",
                "plt.show()"
            ],
            "outputs": [
                {
                    "output_type": "stream",
                    "name": "stdout",
                    "text": [
                        "Prediction: શે\n"
                    ]
                },
                {
                    "output_type": "display_data",
                    "data": {
                        "text/plain": [
                            "<Figure size 720x720 with 1 Axes>"
                        ],
                        "image/svg+xml": "<?xml version=\"1.0\" encoding=\"utf-8\" standalone=\"no\"?>\r\n<!DOCTYPE svg PUBLIC \"-//W3C//DTD SVG 1.1//EN\"\r\n  \"http://www.w3.org/Graphics/SVG/1.1/DTD/svg11.dtd\">\r\n<svg height=\"111.624138pt\" version=\"1.1\" viewBox=\"0 0 111.624138 111.624138\" width=\"111.624138pt\" xmlns=\"http://www.w3.org/2000/svg\" xmlns:xlink=\"http://www.w3.org/1999/xlink\">\r\n <metadata>\r\n  <rdf:RDF xmlns:cc=\"http://creativecommons.org/ns#\" xmlns:dc=\"http://purl.org/dc/elements/1.1/\" xmlns:rdf=\"http://www.w3.org/1999/02/22-rdf-syntax-ns#\">\r\n   <cc:Work>\r\n    <dc:type rdf:resource=\"http://purl.org/dc/dcmitype/StillImage\"/>\r\n    <dc:date>2021-08-21T11:29:23.045611</dc:date>\r\n    <dc:format>image/svg+xml</dc:format>\r\n    <dc:creator>\r\n     <cc:Agent>\r\n      <dc:title>Matplotlib v3.4.2, https://matplotlib.org/</dc:title>\r\n     </cc:Agent>\r\n    </dc:creator>\r\n   </cc:Work>\r\n  </rdf:RDF>\r\n </metadata>\r\n <defs>\r\n  <style type=\"text/css\">*{stroke-linecap:butt;stroke-linejoin:round;}</style>\r\n </defs>\r\n <g id=\"figure_1\">\r\n  <g id=\"patch_1\">\r\n   <path d=\"M 0 111.624138 \r\nL 111.624138 111.624138 \r\nL 111.624138 -0 \r\nL 0 -0 \r\nz\r\n\" style=\"fill:none;\"/>\r\n  </g>\r\n  <g id=\"axes_1\">\r\n   <g id=\"patch_2\">\r\n    <path d=\"M 10.7 100.924138 \r\nL 104.424138 100.924138 \r\nL 104.424138 7.2 \r\nL 10.7 7.2 \r\nz\r\n\" style=\"fill:#ffffff;\"/>\r\n   </g>\r\n   <g clip-path=\"url(#pb80c505200)\">\r\n    <image height=\"94\" id=\"image59698623c2\" transform=\"scale(1 -1)translate(0 -94)\" width=\"94\" x=\"10.7\" xlink:href=\"data:image/png;base64,\r\niVBORw0KGgoAAAANSUhEUgAAAF4AAABeCAYAAACq0qNuAAADmklEQVR4nO2cO0trQRSFT6ImxkJMfIEkaGNhIUFiY2FhnUIkfSp/iI2NjeBfSG9vY2MhWIlFFEWEFBIRi/hIVEy83b57D1eJuTlnHTzrq9Yw451hsd13z+MY8zzv0yOBE0cvIKrQeBA0HgSNB0HjQdB4EDQeBI0HQeNBDKIXECbu7u5EX19fm77JyUnRZ2dnpq9UKv14LkY8CBoPIubxkEy4ubkRPT09bfpub29FNxoN0zcxMSF6dHRUdDqd/nIuRjwIGg+CxoOIfDm5vLws+vn5WXS73Tbjms2m6KmpKdP3/v4u+uLiQvTJyYkZl8vlRDPiQdB4EJEvJ3VKqVarorPZrBn3XWmoeXh4EB2LxUzf+fm5aEY8CBoPgsaDiHw5qclkMqI/Pj56+jfGx8e7GseIB0HjQUQ+1XQ6HdF6B5pMJn2dlxEPgsaDiHyq0TtXXckMDAz4Oi8jHgSNB0HjQYQmx1cqFdELCwui3VPBp6cn0WNjY6I/P+0h68rKiuh6vf7lvLqcHB4eFs0c/0uh8SBCcxFyeXkpWqeXx8dHMy6RSIjWd6TupYNu6x3p4uKiGffy8iJap7GRkREzTr+X6QeMeBA0HkRoqpr7+3vR+le+UCh09fPb29umXS6XRetz9tPTUzNOpy5dGR0fH3c1b68w4kHQeBA0HgSsnDw6OjJt/dRZl3Kzs7P/PdfV1ZVovTv1PPscW//f0u3daa8w4kHQeBCwctJ9jasPq/TL3H4wPz8vutVqmb6hoSHR7m7VTxjxIGg8CFiqcauGePxvDOzv7/s2byqVMm19z6rTjt8w4kHQeBA0HgRs56q/vvA8+yXF6upqYOvQOV5fnvDO9ZdC40EEWk7m83nRb29vpm9mZiaQNczNzZm2LmPdJyJ+wogHQeNBBJpq9vb2RLsP/19fXwNZw8HBgWm7z0KCghEPgsaDoPEgesrx7umhvj/d3d0VvbOzY8Z997pX//kSP3EvO/Q6gsz3jHgQNB5ET4dk6+vrpr21tfXPcYODNpPpiwb37nNpaemny+gJfbfrol8f9/t1sAsjHgSNB0HjQfT9ImRjY0P05uam6SsWi/2cqmvW1tZEHx4efjmuVquJ7sfTwe9gxIOg8SBC8/GZn+jS1T0V1btV7lwjAI0HEZqPz/zEfban0R8tBAkjHgSNB0HjQUSinAwjjHgQNB4EjQdB40HQeBA0HgSNB0HjQdB4EDQeBI0HQeNB/AE26NYbZcJFQgAAAABJRU5ErkJggg==\" y=\"-6.924138\"/>\r\n   </g>\r\n   <g id=\"patch_3\">\r\n    <path d=\"M 10.7 100.924138 \r\nL 10.7 7.2 \r\n\" style=\"fill:none;stroke:#000000;stroke-linecap:square;stroke-linejoin:miter;stroke-width:0.8;\"/>\r\n   </g>\r\n   <g id=\"patch_4\">\r\n    <path d=\"M 104.424138 100.924138 \r\nL 104.424138 7.2 \r\n\" style=\"fill:none;stroke:#000000;stroke-linecap:square;stroke-linejoin:miter;stroke-width:0.8;\"/>\r\n   </g>\r\n   <g id=\"patch_5\">\r\n    <path d=\"M 10.7 100.924138 \r\nL 104.424138 100.924138 \r\n\" style=\"fill:none;stroke:#000000;stroke-linecap:square;stroke-linejoin:miter;stroke-width:0.8;\"/>\r\n   </g>\r\n   <g id=\"patch_6\">\r\n    <path d=\"M 10.7 7.2 \r\nL 104.424138 7.2 \r\n\" style=\"fill:none;stroke:#000000;stroke-linecap:square;stroke-linejoin:miter;stroke-width:0.8;\"/>\r\n   </g>\r\n  </g>\r\n </g>\r\n <defs>\r\n  <clipPath id=\"pb80c505200\">\r\n   <rect height=\"93.724138\" width=\"93.724138\" x=\"10.7\" y=\"7.2\"/>\r\n  </clipPath>\r\n </defs>\r\n</svg>\r\n",
                        "image/png": "[encoded data removed]"
                    },
                    "metadata": {
                        "needs_background": "light"
                    }
                }
            ],
            "metadata": {}
        },
        {
            "cell_type": "code",
            "execution_count": 74,
            "source": [
                "import matplotlib.pyplot as plt\r\n",
                "fig = plt.figure(figsize=(10,10))\r\n",
                "for num, data in enumerate(test_data[7:8]):\r\n",
                "    img_data = data[0]  # 0 index there is image data in 1 index image number\r\n",
                "    y = fig.add_subplot(5,5,num+1)\r\n",
                "    orig = img_data\r\n",
                "    data = img_data.reshape(28,28,1)\r\n",
                "    model_out = model.predict([data])\r\n",
                "    result = np.argmax(model_out)\r\n",
                "    y.imshow(orig, cmap = 'gray')\r\n",
                "    if result == 0:\r\n",
                "        print(\"Prediction: ૦\")\r\n",
                "    if result == 1:\r\n",
                "        result= \"૧\"\r\n",
                "        print(\"Prediction: \"+str(result))\r\n",
                "    if result == 2:\r\n",
                "        result =\"૨\"\r\n",
                "        print(\"Prediction: \"+str(result))\r\n",
                "    if result == 3:\r\n",
                "        result = \"૩\"\r\n",
                "        print(\"Prediction: \"+str(result))\r\n",
                "    if result == 4:\r\n",
                "        result = \"૪\"\r\n",
                "        print(\"Prediction: \"+str(result))\r\n",
                "    if result == 5:\r\n",
                "        result = \"૫\"\r\n",
                "        print(\"Prediction: \"+str(result))\r\n",
                "    if result == 6:\r\n",
                "        result = \"૬\"\r\n",
                "        print(\"Prediction: \"+str(result))\r\n",
                "    if result == 7:\r\n",
                "        result = \"૭\"\r\n",
                "        print(\"Prediction: \"+str(result))\r\n",
                "    if result == 8:\r\n",
                "        result = \"૮\"\r\n",
                "        print(\"Prediction: \"+str(result))\r\n",
                "    if result == 9:\r\n",
                "        result = \"૯\"\r\n",
                "        print(\"Prediction: \"+str(result))\r\n",
                "    str_label = \"Prediction: \"+str(result)\r\n",
                "    #y.imshow(orig, cmap = 'gray')\r\n",
                "    y.axes.get_xaxis().set_visible(False)\r\n",
                "    y.axes.get_yaxis().set_visible(False)\r\n",
                "plt.show()"
            ],
            "outputs": [
                {
                    "output_type": "stream",
                    "name": "stdout",
                    "text": [
                        "Prediction: ૬\n"
                    ]
                },
                {
                    "output_type": "display_data",
                    "data": {
                        "text/plain": [
                            "<Figure size 720x720 with 1 Axes>"
                        ],
                        "image/svg+xml": "<?xml version=\"1.0\" encoding=\"utf-8\" standalone=\"no\"?>\r\n<!DOCTYPE svg PUBLIC \"-//W3C//DTD SVG 1.1//EN\"\r\n  \"http://www.w3.org/Graphics/SVG/1.1/DTD/svg11.dtd\">\r\n<svg height=\"111.624138pt\" version=\"1.1\" viewBox=\"0 0 111.624138 111.624138\" width=\"111.624138pt\" xmlns=\"http://www.w3.org/2000/svg\" xmlns:xlink=\"http://www.w3.org/1999/xlink\">\r\n <metadata>\r\n  <rdf:RDF xmlns:cc=\"http://creativecommons.org/ns#\" xmlns:dc=\"http://purl.org/dc/elements/1.1/\" xmlns:rdf=\"http://www.w3.org/1999/02/22-rdf-syntax-ns#\">\r\n   <cc:Work>\r\n    <dc:type rdf:resource=\"http://purl.org/dc/dcmitype/StillImage\"/>\r\n    <dc:date>2021-08-21T10:44:53.077947</dc:date>\r\n    <dc:format>image/svg+xml</dc:format>\r\n    <dc:creator>\r\n     <cc:Agent>\r\n      <dc:title>Matplotlib v3.4.2, https://matplotlib.org/</dc:title>\r\n     </cc:Agent>\r\n    </dc:creator>\r\n   </cc:Work>\r\n  </rdf:RDF>\r\n </metadata>\r\n <defs>\r\n  <style type=\"text/css\">*{stroke-linecap:butt;stroke-linejoin:round;}</style>\r\n </defs>\r\n <g id=\"figure_1\">\r\n  <g id=\"patch_1\">\r\n   <path d=\"M 0 111.624138 \r\nL 111.624138 111.624138 \r\nL 111.624138 -0 \r\nL 0 -0 \r\nz\r\n\" style=\"fill:none;\"/>\r\n  </g>\r\n  <g id=\"axes_1\">\r\n   <g id=\"patch_2\">\r\n    <path d=\"M 10.7 100.924138 \r\nL 104.424138 100.924138 \r\nL 104.424138 7.2 \r\nL 10.7 7.2 \r\nz\r\n\" style=\"fill:#ffffff;\"/>\r\n   </g>\r\n   <g clip-path=\"url(#pcceb56f562)\">\r\n    <image height=\"94\" id=\"imagedf04487ed7\" transform=\"scale(1 -1)translate(0 -94)\" width=\"94\" x=\"10.7\" xlink:href=\"data:image/png;base64,\r\niVBORw0KGgoAAAANSUhEUgAAAF4AAABeCAYAAACq0qNuAAADuklEQVR4nO2dS0ozQRSFKxqNJj6iBuLETAQFJ7qBrEEcOHXiIhwKAUHdgCtwD+7AiRMnIT5wIojiC18REx//7P73FirdbczpNucbnbK67cvxcqnqqmpTzrkPR9pOFzqAToXGg6DxIGg8CBoPgsaDSEe56erqyrQvLi5EZ7NZ0ff39+a6RqMhenx83PQNDg6KzufzUcJKFMx4EDQeRMp9M3NdWloSvbq6Kvr29tb+klRK9OjoqOju7m5znb5veHjY9OVyOdGPj4+iNzc3zXVbW1tfhZsomPEgaDyIb0tNX1+faF1q5ufnzXUzMzM/DqRer4vWo6R02g68JiYmfvysOMCMB0HjQdB4EN/WeBRPT0+ib25uTJ8eduqha9JgxoOg8SBiWWo05+fnpq1nw3omPDU11baYWgEzHgSNB0HjQURaCGknevjonF1M8fuSBDMeBI0HEftSo99UOmfLy8rKSrvDaRnMeBA0HkTsZ66Hh4emrRdnSqVSu8NpGcx4EDQeBI0HEcvh5OnpqeihoSFgJL8HMx4EjQfR1lJTq9VEd3V9/TcvFouiLy8vTV+S11k1zHgQNB5Ey2eue3t7ovv7+02fLhP+u/T393fRAwMDn/7cOed6e3tbEicaZjwIGg+CxoOINJysVCqmvbi4KFofHHt9fTXXNZtN0f6M9ODg4NM+/1SJntXqrd3T09NBQo8NzHgQNB5EpOHk0dGRaY+NjYnW2+omJycD/867uzvReguHXvjw+3Qp07PdJMCMB0HjQUQa1VxfX5v2x8f/ahV01+7x8bFp9/T0iNYv0PRRe+ecOzk5Ea1HP7Ozs+a6/f39QHGgYMaDoPEgaDyIwDV+Z2dH9MjIiOl7e3sL/WB/5qpr/MvLi+jn52dznW7re+Je032Y8SBoPIjApUZ/5kTPHp2LVmr8NVd9yEyXIf0izDm7e/js7Cz0c+MCMx4EjQcRuNTo2anP3Nxc6AcXCgXT1kfn9ajGf0m2u7srenl5OfRz4wIzHgSNB0HjQQSu8VGGjGH4K1vzgsKMB0HjQUQaTvpfxiPhYcaDoPEgaDyIwMVavzHMZDK/EkwnwYwHQeNBRBoX/vYsthNgxoOg8SAClxq9reLh4cH06W11ugz5H+ssl8uhA/yrMONB0HgQNB5EpBMh/v8EWVtbE61PZvgL1brtH0zb3t4WvbGxETakxMGMB0HjQUSauVarVdNeWFgIdN/6+rpof41VHz7rBJjxIGg8iNh/8POvwowHQeNB0HgQNB4EjQdB40H8A3rQ4YI6SigDAAAAAElFTkSuQmCC\" y=\"-6.924138\"/>\r\n   </g>\r\n   <g id=\"patch_3\">\r\n    <path d=\"M 10.7 100.924138 \r\nL 10.7 7.2 \r\n\" style=\"fill:none;stroke:#000000;stroke-linecap:square;stroke-linejoin:miter;stroke-width:0.8;\"/>\r\n   </g>\r\n   <g id=\"patch_4\">\r\n    <path d=\"M 104.424138 100.924138 \r\nL 104.424138 7.2 \r\n\" style=\"fill:none;stroke:#000000;stroke-linecap:square;stroke-linejoin:miter;stroke-width:0.8;\"/>\r\n   </g>\r\n   <g id=\"patch_5\">\r\n    <path d=\"M 10.7 100.924138 \r\nL 104.424138 100.924138 \r\n\" style=\"fill:none;stroke:#000000;stroke-linecap:square;stroke-linejoin:miter;stroke-width:0.8;\"/>\r\n   </g>\r\n   <g id=\"patch_6\">\r\n    <path d=\"M 10.7 7.2 \r\nL 104.424138 7.2 \r\n\" style=\"fill:none;stroke:#000000;stroke-linecap:square;stroke-linejoin:miter;stroke-width:0.8;\"/>\r\n   </g>\r\n  </g>\r\n </g>\r\n <defs>\r\n  <clipPath id=\"pcceb56f562\">\r\n   <rect height=\"93.724138\" width=\"93.724138\" x=\"10.7\" y=\"7.2\"/>\r\n  </clipPath>\r\n </defs>\r\n</svg>\r\n",
                        "image/png": "[encoded data removed]"
                    },
                    "metadata": {
                        "needs_background": "light"
                    }
                }
            ],
            "metadata": {}
        },
        {
            "cell_type": "code",
            "execution_count": 75,
            "source": [
                "import matplotlib.pyplot as plt\r\n",
                "fig = plt.figure(figsize=(10,10))\r\n",
                "for num, data in enumerate(test_data[8:9]):\r\n",
                "    img_data = data[0]  # 0 index there is image data in 1 index image number\r\n",
                "    y = fig.add_subplot(5,5,num+1)\r\n",
                "    orig = img_data\r\n",
                "    data = img_data.reshape(28,28,1)\r\n",
                "    model_out = model.predict([data])\r\n",
                "    result = np.argmax(model_out)\r\n",
                "    y.imshow(orig, cmap = 'gray')\r\n",
                "    if result == 0:\r\n",
                "        print(\"Prediction: ૦\")\r\n",
                "    if result == 1:\r\n",
                "        result= \"૧\"\r\n",
                "        print(\"Prediction: \"+str(result))\r\n",
                "    if result == 2:\r\n",
                "        result =\"૨\"\r\n",
                "        print(\"Prediction: \"+str(result))\r\n",
                "    if result == 3:\r\n",
                "        result = \"૩\"\r\n",
                "        print(\"Prediction: \"+str(result))\r\n",
                "    if result == 4:\r\n",
                "        result = \"૪\"\r\n",
                "        print(\"Prediction: \"+str(result))\r\n",
                "    if result == 5:\r\n",
                "        result = \"૫\"\r\n",
                "        print(\"Prediction: \"+str(result))\r\n",
                "    if result == 6:\r\n",
                "        result = \"૬\"\r\n",
                "        print(\"Prediction: \"+str(result))\r\n",
                "    if result == 7:\r\n",
                "        result = \"૭\"\r\n",
                "        print(\"Prediction: \"+str(result))\r\n",
                "    if result == 8:\r\n",
                "        result = \"૮\"\r\n",
                "        print(\"Prediction: \"+str(result))\r\n",
                "    if result == 9:\r\n",
                "        result = \"૯\"\r\n",
                "        print(\"Prediction: \"+str(result))\r\n",
                "    str_label = \"Prediction: \"+str(result)\r\n",
                "    #y.imshow(orig, cmap = 'gray')\r\n",
                "    y.axes.get_xaxis().set_visible(False)\r\n",
                "    y.axes.get_yaxis().set_visible(False)\r\n",
                "plt.show()"
            ],
            "outputs": [
                {
                    "output_type": "stream",
                    "name": "stdout",
                    "text": [
                        "Prediction: ૮\n"
                    ]
                },
                {
                    "output_type": "display_data",
                    "data": {
                        "text/plain": [
                            "<Figure size 720x720 with 1 Axes>"
                        ],
                        "image/svg+xml": "<?xml version=\"1.0\" encoding=\"utf-8\" standalone=\"no\"?>\r\n<!DOCTYPE svg PUBLIC \"-//W3C//DTD SVG 1.1//EN\"\r\n  \"http://www.w3.org/Graphics/SVG/1.1/DTD/svg11.dtd\">\r\n<svg height=\"111.624138pt\" version=\"1.1\" viewBox=\"0 0 111.624138 111.624138\" width=\"111.624138pt\" xmlns=\"http://www.w3.org/2000/svg\" xmlns:xlink=\"http://www.w3.org/1999/xlink\">\r\n <metadata>\r\n  <rdf:RDF xmlns:cc=\"http://creativecommons.org/ns#\" xmlns:dc=\"http://purl.org/dc/elements/1.1/\" xmlns:rdf=\"http://www.w3.org/1999/02/22-rdf-syntax-ns#\">\r\n   <cc:Work>\r\n    <dc:type rdf:resource=\"http://purl.org/dc/dcmitype/StillImage\"/>\r\n    <dc:date>2021-08-21T10:45:10.214927</dc:date>\r\n    <dc:format>image/svg+xml</dc:format>\r\n    <dc:creator>\r\n     <cc:Agent>\r\n      <dc:title>Matplotlib v3.4.2, https://matplotlib.org/</dc:title>\r\n     </cc:Agent>\r\n    </dc:creator>\r\n   </cc:Work>\r\n  </rdf:RDF>\r\n </metadata>\r\n <defs>\r\n  <style type=\"text/css\">*{stroke-linecap:butt;stroke-linejoin:round;}</style>\r\n </defs>\r\n <g id=\"figure_1\">\r\n  <g id=\"patch_1\">\r\n   <path d=\"M 0 111.624138 \r\nL 111.624138 111.624138 \r\nL 111.624138 -0 \r\nL 0 -0 \r\nz\r\n\" style=\"fill:none;\"/>\r\n  </g>\r\n  <g id=\"axes_1\">\r\n   <g id=\"patch_2\">\r\n    <path d=\"M 10.7 100.924138 \r\nL 104.424138 100.924138 \r\nL 104.424138 7.2 \r\nL 10.7 7.2 \r\nz\r\n\" style=\"fill:#ffffff;\"/>\r\n   </g>\r\n   <g clip-path=\"url(#p444f68d0fb)\">\r\n    <image height=\"94\" id=\"image84824b121a\" transform=\"scale(1 -1)translate(0 -94)\" width=\"94\" x=\"10.7\" xlink:href=\"data:image/png;base64,\r\niVBORw0KGgoAAAANSUhEUgAAAF4AAABeCAYAAACq0qNuAAADAElEQVR4nO3dS2oiURQG4OtbM46gCM4UwYGCW8jIHcR1uBVdgwMHzlyAQ3HsVBRUfKCoJPGZjPrk3qK1u8ktf23/b3TKqlCXn8OhpMqKRyn1qejqvOgFPCoGD8LgQRg8CIMHYfAgDB6EwYMweBAGD8LgQRg8iB+9gD/p9/vGts/nk/rt7U3qdrttHFcqldxd2A+x40EYPAiDB7mZGd/r9aT2er/7YbPZGMftdjup8/m828tyDTsehMGDeNQV77l2Oh2pY7GYse/j40Pq9Xot9cvLi3HcbDZzaXXXxY4HYfAgDB7E1Rk/GAzO7lsul8b28XiU+p4vE/8WOx6EwYNY/+Y6Go2k3u/3xr7FYiF1Lpezfeq7wo4HYfAgVkbNubHhHDWPPl507HgQBg/C4EGszPharSb14XCQWr98JBM7HoTBg1gZNeFw+Leff37yd23nsONBGDyIlVFTqVSkLpfLUjvvq9I3djwIgwdh8CDW77l2u12pg8GgsS8QCEidTCZtnvbusONBGDyI9Xuur6+vUjebTWOf/vhdKBQy9m23W9tLuWnseBAGD+Lqk2TD4dDY1q9q9B8YKGWOoUe4N8uOB2HwIAwe5Kq/CJnP51I7b5LoTw/r+1KplOvrQmDHgzB4kKuOGl29Xje2i8Wi1OPxWGrnZWcmk3F3YVfCjgdh8CCwUeO0Wq2kjkQiUk8mE+O40+kk9fv7u9TpdNrF1dnHjgdh8CAMHuRmZvw5rVbL2M5ms1Lr897vN+/pPD8/S60/wXwr2PEgDB7k5keNU6FQkLrRaEgdjUaN4/TLUH3sPD09ube4f8COB2HwIAwe5O5m/DmXbqx4PB6pnTNe/zvnsz5uYseDMHiQ/2bUXKK/1e8SfdQ4n3S2jR0PwuBBHmLUXOJ8tcsv+o0ZpcwXkiYSiR+flx0PwuBBGDzIzbw/HkV/dFx/6aj+uVJKVatVq+dlx4MweJCHHzU6/V8dxeNxY990OrV6LnY8CIMHefhvrijseBAGD8LgQRg8CIMHYfAgX06YstEhQQW9AAAAAElFTkSuQmCC\" y=\"-6.924138\"/>\r\n   </g>\r\n   <g id=\"patch_3\">\r\n    <path d=\"M 10.7 100.924138 \r\nL 10.7 7.2 \r\n\" style=\"fill:none;stroke:#000000;stroke-linecap:square;stroke-linejoin:miter;stroke-width:0.8;\"/>\r\n   </g>\r\n   <g id=\"patch_4\">\r\n    <path d=\"M 104.424138 100.924138 \r\nL 104.424138 7.2 \r\n\" style=\"fill:none;stroke:#000000;stroke-linecap:square;stroke-linejoin:miter;stroke-width:0.8;\"/>\r\n   </g>\r\n   <g id=\"patch_5\">\r\n    <path d=\"M 10.7 100.924138 \r\nL 104.424138 100.924138 \r\n\" style=\"fill:none;stroke:#000000;stroke-linecap:square;stroke-linejoin:miter;stroke-width:0.8;\"/>\r\n   </g>\r\n   <g id=\"patch_6\">\r\n    <path d=\"M 10.7 7.2 \r\nL 104.424138 7.2 \r\n\" style=\"fill:none;stroke:#000000;stroke-linecap:square;stroke-linejoin:miter;stroke-width:0.8;\"/>\r\n   </g>\r\n  </g>\r\n </g>\r\n <defs>\r\n  <clipPath id=\"p444f68d0fb\">\r\n   <rect height=\"93.724138\" width=\"93.724138\" x=\"10.7\" y=\"7.2\"/>\r\n  </clipPath>\r\n </defs>\r\n</svg>\r\n",
                        "image/png": "[encoded data removed]"
                    },
                    "metadata": {
                        "needs_background": "light"
                    }
                }
            ],
            "metadata": {}
        },
        {
            "cell_type": "code",
            "execution_count": 76,
            "source": [
                "import matplotlib.pyplot as plt\r\n",
                "fig = plt.figure(figsize=(10,10))\r\n",
                "for num, data in enumerate(test_data[9:10]):\r\n",
                "    img_data = data[0]  # 0 index there is image data in 1 index image number\r\n",
                "    y = fig.add_subplot(5,5,num+1)\r\n",
                "    orig = img_data\r\n",
                "    data = img_data.reshape(28,28,1)\r\n",
                "    model_out = model.predict([data])\r\n",
                "    result = np.argmax(model_out)\r\n",
                "    y.imshow(orig, cmap = 'gray')\r\n",
                "    if result == 0:\r\n",
                "        print(\"Prediction: ૦\")\r\n",
                "    if result == 1:\r\n",
                "        result= \"૧\"\r\n",
                "        print(\"Prediction: \"+str(result))\r\n",
                "    if result == 2:\r\n",
                "        result =\"૨\"\r\n",
                "        print(\"Prediction: \"+str(result))\r\n",
                "    if result == 3:\r\n",
                "        result = \"૩\"\r\n",
                "        print(\"Prediction: \"+str(result))\r\n",
                "    if result == 4:\r\n",
                "        result = \"૪\"\r\n",
                "        print(\"Prediction: \"+str(result))\r\n",
                "    if result == 5:\r\n",
                "        result = \"૫\"\r\n",
                "        print(\"Prediction: \"+str(result))\r\n",
                "    if result == 6:\r\n",
                "        result = \"૬\"\r\n",
                "        print(\"Prediction: \"+str(result))\r\n",
                "    if result == 7:\r\n",
                "        result = \"૭\"\r\n",
                "        print(\"Prediction: \"+str(result))\r\n",
                "    if result == 8:\r\n",
                "        result = \"૮\"\r\n",
                "        print(\"Prediction: \"+str(result))\r\n",
                "    if result == 9:\r\n",
                "        result = \"૯\"\r\n",
                "        print(\"Prediction: \"+str(result))\r\n",
                "    str_label = \"Prediction: \"+str(result)\r\n",
                "    #y.imshow(orig, cmap = 'gray')\r\n",
                "    y.axes.get_xaxis().set_visible(False)\r\n",
                "    y.axes.get_yaxis().set_visible(False)\r\n",
                "plt.show()"
            ],
            "outputs": [
                {
                    "output_type": "stream",
                    "name": "stdout",
                    "text": [
                        "Prediction: ૩\n"
                    ]
                },
                {
                    "output_type": "display_data",
                    "data": {
                        "text/plain": [
                            "<Figure size 720x720 with 1 Axes>"
                        ],
                        "image/svg+xml": "<?xml version=\"1.0\" encoding=\"utf-8\" standalone=\"no\"?>\r\n<!DOCTYPE svg PUBLIC \"-//W3C//DTD SVG 1.1//EN\"\r\n  \"http://www.w3.org/Graphics/SVG/1.1/DTD/svg11.dtd\">\r\n<svg height=\"111.624138pt\" version=\"1.1\" viewBox=\"0 0 111.624138 111.624138\" width=\"111.624138pt\" xmlns=\"http://www.w3.org/2000/svg\" xmlns:xlink=\"http://www.w3.org/1999/xlink\">\r\n <metadata>\r\n  <rdf:RDF xmlns:cc=\"http://creativecommons.org/ns#\" xmlns:dc=\"http://purl.org/dc/elements/1.1/\" xmlns:rdf=\"http://www.w3.org/1999/02/22-rdf-syntax-ns#\">\r\n   <cc:Work>\r\n    <dc:type rdf:resource=\"http://purl.org/dc/dcmitype/StillImage\"/>\r\n    <dc:date>2021-08-21T10:45:26.914264</dc:date>\r\n    <dc:format>image/svg+xml</dc:format>\r\n    <dc:creator>\r\n     <cc:Agent>\r\n      <dc:title>Matplotlib v3.4.2, https://matplotlib.org/</dc:title>\r\n     </cc:Agent>\r\n    </dc:creator>\r\n   </cc:Work>\r\n  </rdf:RDF>\r\n </metadata>\r\n <defs>\r\n  <style type=\"text/css\">*{stroke-linecap:butt;stroke-linejoin:round;}</style>\r\n </defs>\r\n <g id=\"figure_1\">\r\n  <g id=\"patch_1\">\r\n   <path d=\"M 0 111.624138 \r\nL 111.624138 111.624138 \r\nL 111.624138 -0 \r\nL 0 -0 \r\nz\r\n\" style=\"fill:none;\"/>\r\n  </g>\r\n  <g id=\"axes_1\">\r\n   <g id=\"patch_2\">\r\n    <path d=\"M 10.7 100.924138 \r\nL 104.424138 100.924138 \r\nL 104.424138 7.2 \r\nL 10.7 7.2 \r\nz\r\n\" style=\"fill:#ffffff;\"/>\r\n   </g>\r\n   <g clip-path=\"url(#p109f56eab0)\">\r\n    <image height=\"94\" id=\"image3e3fb3540a\" transform=\"scale(1 -1)translate(0 -94)\" width=\"94\" x=\"10.7\" xlink:href=\"data:image/png;base64,\r\niVBORw0KGgoAAAANSUhEUgAAAF4AAABeCAYAAACq0qNuAAADpUlEQVR4nO2cO0tkQRCFa3yNbwcfiKhgoKDZiCb+AgNjI/+C/8DI3NDUWHMxNTEVBMFAMTAQFEXx/X5stLVVzYzcde7c0+6eLzo93Uy3h6Km+nZfcyLyKSRzatAL+F+h8SBoPAgaD4LGg6DxIGg8CBoPgsaDoPEgaDwIGg+CxoOg8SBoPAgaD4LGg6DxIGg8CBoPgsaDoPEgaDyIOvQCSnF2dqb6/Pzc9dXW1qp+fX1V3dra6sadnp6qnpqaSnuJFcOIB0HjQeQkkit8Ozs7qhsaGlTn83k3rr29XfXz83PJz0VE7u/vE81rU1RjY2PJNVQDRjwIGg8CVtUsLS2V7Ts+PlY9PT2d6PsWFhZce3FxUfXe3p7qnp4eN86mpIeHB9VXV1duXKFQSLSOpDDiQdB4EDQeRDTl5MzMjOqNjQ3IGuwu+fb21vXd3NyoLhaLFc/FiAdB40FEk2pi4OTkRHVLS4vry+Vyqtva2iqeixEPgsaDiPJ5PIq+vj7Vh4eHri98WFcpjHgQNB4EjQfx43L8xcVFyc+bm5td2z7hHBkZ+et5vion04ARD4LGg4hy53p9fa367e3N9X1+/lnu+/u76rDcs6nBHnDU1PhY6+3tVX1wcKC6v7/fjfv4+FDNnesPhsaDiLKqeXl5UW3TjojI4+OjavsMf3193Y2zZ6T2qkZdnf+T7W20p6cn1ZeXl27c7OxskqUnhhEPgsaDoPEgoiwn9/f3VXd3d7u+MPf+pqury7Xt74QtQW35KOLLTlsy2hJUJJ0S0sKIB0HjQUSZaizhNQu787TX78JUY8tQWyaGO9zOzk7Vd3d3JbWIPyRJA0Y8CBoPIsqdqyWsJoaGhlTv7u6qnpubc+PW1tYSfb/d8Q4PD6tO+3ZwCCMeBI0HQeNBRJ/jQ46OjlSHL5x9B/sbYs9Z7W63GjDiQdB4EJmmmsnJSdXb29tZTl2WpqYm1fbqyPj4eFXnZcSDoPEgaDyITHP8/Py86jDHLy8vZ7KGra0t17aPBurr6zNZgwgjHgaNB5HpQYg9Sw2v5tkzUnt3ZmVlxY0L2+XY3NxUPTAwoNqeq4r4HerY2Fii704DRjwIGg8Cdua6urrq2hMTE6rtlTt7XipS/j8vhS8O2JvEHR0dqsNUMzo6mnDF6cKIB0HjQdB4ENHfq7FvaYj4fP3VmyP2gGNwcLBKq/s+jHgQNB5E9KnmX4URD4LGg6DxIGg8CBoPgsaDoPEgaDwIGg/iF5ko6CRCW8x0AAAAAElFTkSuQmCC\" y=\"-6.924138\"/>\r\n   </g>\r\n   <g id=\"patch_3\">\r\n    <path d=\"M 10.7 100.924138 \r\nL 10.7 7.2 \r\n\" style=\"fill:none;stroke:#000000;stroke-linecap:square;stroke-linejoin:miter;stroke-width:0.8;\"/>\r\n   </g>\r\n   <g id=\"patch_4\">\r\n    <path d=\"M 104.424138 100.924138 \r\nL 104.424138 7.2 \r\n\" style=\"fill:none;stroke:#000000;stroke-linecap:square;stroke-linejoin:miter;stroke-width:0.8;\"/>\r\n   </g>\r\n   <g id=\"patch_5\">\r\n    <path d=\"M 10.7 100.924138 \r\nL 104.424138 100.924138 \r\n\" style=\"fill:none;stroke:#000000;stroke-linecap:square;stroke-linejoin:miter;stroke-width:0.8;\"/>\r\n   </g>\r\n   <g id=\"patch_6\">\r\n    <path d=\"M 10.7 7.2 \r\nL 104.424138 7.2 \r\n\" style=\"fill:none;stroke:#000000;stroke-linecap:square;stroke-linejoin:miter;stroke-width:0.8;\"/>\r\n   </g>\r\n  </g>\r\n </g>\r\n <defs>\r\n  <clipPath id=\"p109f56eab0\">\r\n   <rect height=\"93.724138\" width=\"93.724138\" x=\"10.7\" y=\"7.2\"/>\r\n  </clipPath>\r\n </defs>\r\n</svg>\r\n",
                        "image/png": "[encoded data removed]"
                    },
                    "metadata": {
                        "needs_background": "light"
                    }
                }
            ],
            "metadata": {}
        },
        {
            "cell_type": "code",
            "execution_count": 80,
            "source": [
                "import matplotlib.pyplot as plt\r\n",
                "fig = plt.figure(figsize=(10,10))\r\n",
                "for num, data in enumerate(test_data[4:5]):\r\n",
                "    img_data = data[0]  # 0 index there is image data in 1 index image number\r\n",
                "    y = fig.add_subplot(5,5,num+1)\r\n",
                "    orig = img_data\r\n",
                "    data = img_data.reshape(28,28,1)\r\n",
                "    model_out = model.predict([data])\r\n",
                "    result = np.argmax(model_out)\r\n",
                "    y.imshow(orig, cmap = 'gray')\r\n",
                "    if result == 0:\r\n",
                "        print(\"Prediction: ૦\")\r\n",
                "    if result == 1:\r\n",
                "        result= \"૧\"\r\n",
                "        print(\"Prediction: \"+str(result))\r\n",
                "    if result == 2:\r\n",
                "        result =\"૨\"\r\n",
                "        print(\"Prediction: \"+str(result))\r\n",
                "    if result == 3:\r\n",
                "        result = \"૩\"\r\n",
                "        print(\"Prediction: \"+str(result))\r\n",
                "    if result == 4:\r\n",
                "        result = \"૪\"\r\n",
                "        print(\"Prediction: \"+str(result))\r\n",
                "    if result == 5:\r\n",
                "        result = \"૫\"\r\n",
                "        print(\"Prediction: \"+str(result))\r\n",
                "    if result == 6:\r\n",
                "        result = \"૬\"\r\n",
                "        print(\"Prediction: \"+str(result))\r\n",
                "    if result == 7:\r\n",
                "        result = \"૭\"\r\n",
                "        print(\"Prediction: \"+str(result))\r\n",
                "    if result == 8:\r\n",
                "        result = \"૮\"\r\n",
                "        print(\"Prediction: \"+str(result))\r\n",
                "    if result == 9:\r\n",
                "        result = \"૯\"\r\n",
                "        print(\"Prediction: \"+str(result))\r\n",
                "    str_label = \"Prediction: \"+str(result)\r\n",
                "    #y.imshow(orig, cmap = 'gray')\r\n",
                "    y.axes.get_xaxis().set_visible(False)\r\n",
                "    y.axes.get_yaxis().set_visible(False)\r\n",
                "plt.show()"
            ],
            "outputs": [
                {
                    "output_type": "stream",
                    "name": "stdout",
                    "text": [
                        "Prediction: ૩\n"
                    ]
                },
                {
                    "output_type": "display_data",
                    "data": {
                        "text/plain": [
                            "<Figure size 720x720 with 1 Axes>"
                        ],
                        "image/svg+xml": "<?xml version=\"1.0\" encoding=\"utf-8\" standalone=\"no\"?>\r\n<!DOCTYPE svg PUBLIC \"-//W3C//DTD SVG 1.1//EN\"\r\n  \"http://www.w3.org/Graphics/SVG/1.1/DTD/svg11.dtd\">\r\n<svg height=\"111.624138pt\" version=\"1.1\" viewBox=\"0 0 111.624138 111.624138\" width=\"111.624138pt\" xmlns=\"http://www.w3.org/2000/svg\" xmlns:xlink=\"http://www.w3.org/1999/xlink\">\r\n <metadata>\r\n  <rdf:RDF xmlns:cc=\"http://creativecommons.org/ns#\" xmlns:dc=\"http://purl.org/dc/elements/1.1/\" xmlns:rdf=\"http://www.w3.org/1999/02/22-rdf-syntax-ns#\">\r\n   <cc:Work>\r\n    <dc:type rdf:resource=\"http://purl.org/dc/dcmitype/StillImage\"/>\r\n    <dc:date>2021-08-21T10:49:23.460022</dc:date>\r\n    <dc:format>image/svg+xml</dc:format>\r\n    <dc:creator>\r\n     <cc:Agent>\r\n      <dc:title>Matplotlib v3.4.2, https://matplotlib.org/</dc:title>\r\n     </cc:Agent>\r\n    </dc:creator>\r\n   </cc:Work>\r\n  </rdf:RDF>\r\n </metadata>\r\n <defs>\r\n  <style type=\"text/css\">*{stroke-linecap:butt;stroke-linejoin:round;}</style>\r\n </defs>\r\n <g id=\"figure_1\">\r\n  <g id=\"patch_1\">\r\n   <path d=\"M 0 111.624138 \r\nL 111.624138 111.624138 \r\nL 111.624138 -0 \r\nL 0 -0 \r\nz\r\n\" style=\"fill:none;\"/>\r\n  </g>\r\n  <g id=\"axes_1\">\r\n   <g id=\"patch_2\">\r\n    <path d=\"M 10.7 100.924138 \r\nL 104.424138 100.924138 \r\nL 104.424138 7.2 \r\nL 10.7 7.2 \r\nz\r\n\" style=\"fill:#ffffff;\"/>\r\n   </g>\r\n   <g clip-path=\"url(#pe7bb45b5a8)\">\r\n    <image height=\"94\" id=\"imaged3c8ebfe6e\" transform=\"scale(1 -1)translate(0 -94)\" width=\"94\" x=\"10.7\" xlink:href=\"data:image/png;base64,\r\niVBORw0KGgoAAAANSUhEUgAAAF4AAABeCAYAAACq0qNuAAAD5ElEQVR4nO2cuUoEQRRFa9xX3AUVFzBRExNjwQ8QY0Nz/8A/MTNVRNA/MBADEzFREDQQFUHEXXHNnvcVjrhU9x3wnug21TNdXN68ebV1IYTwFkTulLE78F+R8SRkPAkZT0LGk5DxJGQ8CRlPQsaTkPEkZDwJGU9CxpOQ8SRkPAkZT0LGk5DxJGQ8iQp2Bz5jaWnJ9NPTk2s7ODgwPTc3l1ufUqOIJyHjSch4EoWQ476aq6sr05eXl67t/v7e9N3dnem3N9+9srKPWGlpaTFdXl5e9FkNDQ2me3t7f9rtTFDEk5DxJH6Vai4uLtx1RcVHVfr8/Gz6+vra3YfpBVNLCCHU1NSY7u/vN11XV1f0Wdvb26bb2trcfViGPjw8FP2+gYGBwEART0LGk/gy1YyNjZmen583XVlZ6e7DygN/ypgWQvDpoLGx8ee9/SWbm5umOzs7XRv2o6OjI7c+KeJJyHgSMp7Et8vJ6elp0wsLC66tqqoqaaeyZGdnx13j/06hUDDd1dWVaT8U8SRkPIlcJ8lKERxNn56emo5Ly9bW1qTPVcSTkPEkSjLVYEURz8ff3Nx8qn/LxMSE6eXlZdPx6Dz1SFsRT0LGk5DxJGg5HvfHhODLOlwUeX19LfoduP5aX19f9L7vrrMeHh4WbUu9YKKIJyHjSWS6hW91ddVd48/18fHRtWHZeHR0ZDou4/BzmJJw1Bl/bm9vz/TU1JS7b3d31zSWkLe3tyFLFPEkZDyJTFNNT0+Pu8Z5+3jUieu7KcAqZ2Njw/TKyoq7b3h42DRuR/mqSkqBIp6EjCch40kkz/E4Io236Z2dnZkeHx9P/WgHloOjo6Om19bW3H245oqzorgVMQsU8SRkPInkqQZHoLW1ta6turo69eN+zOTkpLve3983jZNu8UJIahTxJGQ8ieSpBtNLXBnEhwJKAdw9hiPrr9YBUqCIJyHjSch4EslzPObG+PDZzMxM6sf9maamJtPn5+emu7u7M32uIp6EjCeRaaqJD5/Fr0BhcHJyUrQtzwNxingSMp6EjCeR6exkvDcF3z3AAvfshOAX5Nvb23PrhyKehIwnkWs5mSdYNuKsaLzA8fLyklufEEU8CRlPIvnBhOPjY9Pxzxq3e8zOzrq2eGfxdxgaGjK9vr7u2nALHqa/eIEDJ8nyRBFPQsaTkPEkMj18trW15a5HRkZMxyNIXCTH/S146iMEX6LiffFBZPx/iff3lAKKeBIynkSu51wXFxdN9/X1ubbBwUHT+J5gTCch+PcO4yRc/JqT5ubmP/U1axTxJGQ8iZJ8bcp/QBFPQsaTkPEkZDwJGU9CxpN4B/mQ/OzyhHMpAAAAAElFTkSuQmCC\" y=\"-6.924138\"/>\r\n   </g>\r\n   <g id=\"patch_3\">\r\n    <path d=\"M 10.7 100.924138 \r\nL 10.7 7.2 \r\n\" style=\"fill:none;stroke:#000000;stroke-linecap:square;stroke-linejoin:miter;stroke-width:0.8;\"/>\r\n   </g>\r\n   <g id=\"patch_4\">\r\n    <path d=\"M 104.424138 100.924138 \r\nL 104.424138 7.2 \r\n\" style=\"fill:none;stroke:#000000;stroke-linecap:square;stroke-linejoin:miter;stroke-width:0.8;\"/>\r\n   </g>\r\n   <g id=\"patch_5\">\r\n    <path d=\"M 10.7 100.924138 \r\nL 104.424138 100.924138 \r\n\" style=\"fill:none;stroke:#000000;stroke-linecap:square;stroke-linejoin:miter;stroke-width:0.8;\"/>\r\n   </g>\r\n   <g id=\"patch_6\">\r\n    <path d=\"M 10.7 7.2 \r\nL 104.424138 7.2 \r\n\" style=\"fill:none;stroke:#000000;stroke-linecap:square;stroke-linejoin:miter;stroke-width:0.8;\"/>\r\n   </g>\r\n  </g>\r\n </g>\r\n <defs>\r\n  <clipPath id=\"pe7bb45b5a8\">\r\n   <rect height=\"93.724138\" width=\"93.724138\" x=\"10.7\" y=\"7.2\"/>\r\n  </clipPath>\r\n </defs>\r\n</svg>\r\n",
                        "image/png": "[encoded data removed]"
                    },
                    "metadata": {
                        "needs_background": "light"
                    }
                }
            ],
            "metadata": {}
        }
    ],
    "metadata": {
        "orig_nbformat": 4,
        "language_info": {
            "name": "python",
            "version": "3.9.5",
            "mimetype": "text/x-python",
            "codemirror_mode": {
                "name": "ipython",
                "version": 3
            },
            "pygments_lexer": "ipython3",
            "nbconvert_exporter": "python",
            "file_extension": ".py"
        },
        "kernelspec": {
            "name": "python3",
            "display_name": "Python 3.9.5 64-bit ('project': virtualenv)"
        },
        "interpreter": {
            "hash": "e874b790cfa1544dd6d6d81043353a5575eb0495be9a94c0aded1fcb1a029d23"
        }
    },
    "nbformat": 4,
    "nbformat_minor": 2
}